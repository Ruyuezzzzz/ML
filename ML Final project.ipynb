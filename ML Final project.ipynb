{
 "cells": [
  {
   "cell_type": "markdown",
   "metadata": {},
   "source": [
    "# ML Final Project "
   ]
  },
  {
   "cell_type": "markdown",
   "metadata": {},
   "source": [
    "## Problem \n",
    "<span style=\"color: #000; font-family: Babas; font-size: 1.5em;\">Using the data, what are the most important factors in whether or not somebody will seek treatment for mental health?  Once we have identified them, can we determine who did not seek treatment but should? With how much accuracy?</span>\n"
   ]
  },
  {
   "cell_type": "markdown",
   "metadata": {},
   "source": [
    "### Dateset: Mental Health Survey in Tech  \n",
    "This dataset is a 2014 survey that measures attitudes towards mental health and frequency of mental health disorders in the tech workplace.  https://www.kaggle.com/osmi/mental-health-in-tech-survey"
   ]
  },
  {
   "cell_type": "markdown",
   "metadata": {},
   "source": [
    "This dataset contains the 27 types of data:\n",
    "\n",
    "Timestamp\n",
    "\n",
    "Age\n",
    "\n",
    "Gender\n",
    "\n",
    "Country\n",
    "\n",
    "state: If you live in the United States, which state or territory do you live in?\n",
    "\n",
    "self_employed: Are you self-employed?\n",
    "\n",
    "family_history: Do you have a family history of mental illness?\n",
    "\n",
    "treatment: Have you sought treatment for a mental health condition?\n",
    "\n",
    "work_interfere: If you have a mental health condition, do you feel that it interferes with your work?\n",
    "\n",
    "no_employees: How many employees does your company or organization have?\n",
    "\n",
    "remote_work: Do you work remotely (outside of an office) at least 50% of the time?\n",
    "\n",
    "tech_company: Is your employer primarily a tech company/organization?\n",
    "\n",
    "benefits: Does your employer provide mental health benefits?\n",
    "\n",
    "care_options: Do you know the options for mental health care your employer provides?\n",
    "\n",
    "wellness_program: Has your employer ever discussed mental health as part of an employee wellness program?\n",
    "\n",
    "seek_help: Does your employer provide resources to learn more about mental health issues and how to seek help?\n",
    "\n",
    "anonymity: Is your anonymity protected if you choose to take advantage of mental health or substance abuse treatment resources?\n",
    "\n",
    "leave: How easy is it for you to take medical leave for a mental health condition?\n",
    "\n",
    "mental_health_consequence: Do you think that discussing a mental health issue with your employer would have negative consequences?\n",
    "\n",
    "phys_health_consequence: Do you think that discussing a physical health issue with your employer would have negative consequences?\n",
    "\n",
    "coworkers: Would you be willing to discuss a mental health issue with your coworkers?\n",
    "\n",
    "supervisor: Would you be willing to discuss a mental health issue with your direct supervisor(s)?\n",
    "\n",
    "mental_health_interview: Would you bring up a mental health issue with a potential employer in an interview?\n",
    "\n",
    "phys_health_interview: Would you bring up a physical health issue with a potential employer in an interview?\n",
    "\n",
    "mental_vs_physical: Do you feel that your employer takes mental health as seriously as physical health?\n",
    "\n",
    "obs_consequence: Have you heard of or observed negative consequences for coworkers with mental health conditions in your workplace?\n",
    "\n",
    "comments: Any additional notes or comments"
   ]
  },
  {
   "cell_type": "markdown",
   "metadata": {},
   "source": [
    "#### Our target variable is treatment (Have you sought treatment for a mental health condition?)\n",
    "\n",
    "\n",
    "\n",
    "\n",
    "\n"
   ]
  },
  {
   "cell_type": "markdown",
   "metadata": {},
   "source": [
    "## Data preparation"
   ]
  },
  {
   "attachments": {},
   "cell_type": "markdown",
   "metadata": {},
   "source": [
    "### How did you gather and prepare the data for analysis?\n",
    "removed the timestamp and comments columns(useless)\n",
    "\n",
    "removed the state column(too many missing values) \n",
    "\n",
    "replaced rediculous numbers in the age column (e.g. Were listed as 999999999 or -29) with the median value.\n",
    "\n",
    "reclassify gender column to male, female, trans, and non-binary.\n",
    "\n",
    "Columns that had strings(categorical) in the cells were transformed into numbers.\n",
    "\n",
    "The values in the age and country columns were rescaled \n"
   ]
  },
  {
   "cell_type": "code",
   "execution_count": 1241,
   "metadata": {
    "collapsed": true
   },
   "outputs": [],
   "source": [
    "import pandas as pd\n",
    "import numpy as np"
   ]
  },
  {
   "cell_type": "code",
   "execution_count": 1242,
   "metadata": {
    "collapsed": true
   },
   "outputs": [],
   "source": [
    "#load data \n",
    "data=pd.read_csv(\"survey.csv\")"
   ]
  },
  {
   "cell_type": "code",
   "execution_count": 1243,
   "metadata": {},
   "outputs": [
    {
     "data": {
      "text/html": [
       "<div>\n",
       "<style>\n",
       "    .dataframe thead tr:only-child th {\n",
       "        text-align: right;\n",
       "    }\n",
       "\n",
       "    .dataframe thead th {\n",
       "        text-align: left;\n",
       "    }\n",
       "\n",
       "    .dataframe tbody tr th {\n",
       "        vertical-align: top;\n",
       "    }\n",
       "</style>\n",
       "<table border=\"1\" class=\"dataframe\">\n",
       "  <thead>\n",
       "    <tr style=\"text-align: right;\">\n",
       "      <th></th>\n",
       "      <th>Timestamp</th>\n",
       "      <th>Age</th>\n",
       "      <th>Gender</th>\n",
       "      <th>Country</th>\n",
       "      <th>state</th>\n",
       "      <th>self_employed</th>\n",
       "      <th>family_history</th>\n",
       "      <th>treatment</th>\n",
       "      <th>work_interfere</th>\n",
       "      <th>no_employees</th>\n",
       "      <th>...</th>\n",
       "      <th>leave</th>\n",
       "      <th>mental_health_consequence</th>\n",
       "      <th>phys_health_consequence</th>\n",
       "      <th>coworkers</th>\n",
       "      <th>supervisor</th>\n",
       "      <th>mental_health_interview</th>\n",
       "      <th>phys_health_interview</th>\n",
       "      <th>mental_vs_physical</th>\n",
       "      <th>obs_consequence</th>\n",
       "      <th>comments</th>\n",
       "    </tr>\n",
       "  </thead>\n",
       "  <tbody>\n",
       "    <tr>\n",
       "      <th>0</th>\n",
       "      <td>2014-08-27 11:29:31</td>\n",
       "      <td>37</td>\n",
       "      <td>Female</td>\n",
       "      <td>United States</td>\n",
       "      <td>IL</td>\n",
       "      <td>NaN</td>\n",
       "      <td>No</td>\n",
       "      <td>Yes</td>\n",
       "      <td>Often</td>\n",
       "      <td>6-25</td>\n",
       "      <td>...</td>\n",
       "      <td>Somewhat easy</td>\n",
       "      <td>No</td>\n",
       "      <td>No</td>\n",
       "      <td>Some of them</td>\n",
       "      <td>Yes</td>\n",
       "      <td>No</td>\n",
       "      <td>Maybe</td>\n",
       "      <td>Yes</td>\n",
       "      <td>No</td>\n",
       "      <td>NaN</td>\n",
       "    </tr>\n",
       "    <tr>\n",
       "      <th>1</th>\n",
       "      <td>2014-08-27 11:29:37</td>\n",
       "      <td>44</td>\n",
       "      <td>M</td>\n",
       "      <td>United States</td>\n",
       "      <td>IN</td>\n",
       "      <td>NaN</td>\n",
       "      <td>No</td>\n",
       "      <td>No</td>\n",
       "      <td>Rarely</td>\n",
       "      <td>More than 1000</td>\n",
       "      <td>...</td>\n",
       "      <td>Don't know</td>\n",
       "      <td>Maybe</td>\n",
       "      <td>No</td>\n",
       "      <td>No</td>\n",
       "      <td>No</td>\n",
       "      <td>No</td>\n",
       "      <td>No</td>\n",
       "      <td>Don't know</td>\n",
       "      <td>No</td>\n",
       "      <td>NaN</td>\n",
       "    </tr>\n",
       "    <tr>\n",
       "      <th>2</th>\n",
       "      <td>2014-08-27 11:29:44</td>\n",
       "      <td>32</td>\n",
       "      <td>Male</td>\n",
       "      <td>Canada</td>\n",
       "      <td>NaN</td>\n",
       "      <td>NaN</td>\n",
       "      <td>No</td>\n",
       "      <td>No</td>\n",
       "      <td>Rarely</td>\n",
       "      <td>6-25</td>\n",
       "      <td>...</td>\n",
       "      <td>Somewhat difficult</td>\n",
       "      <td>No</td>\n",
       "      <td>No</td>\n",
       "      <td>Yes</td>\n",
       "      <td>Yes</td>\n",
       "      <td>Yes</td>\n",
       "      <td>Yes</td>\n",
       "      <td>No</td>\n",
       "      <td>No</td>\n",
       "      <td>NaN</td>\n",
       "    </tr>\n",
       "    <tr>\n",
       "      <th>3</th>\n",
       "      <td>2014-08-27 11:29:46</td>\n",
       "      <td>31</td>\n",
       "      <td>Male</td>\n",
       "      <td>United Kingdom</td>\n",
       "      <td>NaN</td>\n",
       "      <td>NaN</td>\n",
       "      <td>Yes</td>\n",
       "      <td>Yes</td>\n",
       "      <td>Often</td>\n",
       "      <td>26-100</td>\n",
       "      <td>...</td>\n",
       "      <td>Somewhat difficult</td>\n",
       "      <td>Yes</td>\n",
       "      <td>Yes</td>\n",
       "      <td>Some of them</td>\n",
       "      <td>No</td>\n",
       "      <td>Maybe</td>\n",
       "      <td>Maybe</td>\n",
       "      <td>No</td>\n",
       "      <td>Yes</td>\n",
       "      <td>NaN</td>\n",
       "    </tr>\n",
       "    <tr>\n",
       "      <th>4</th>\n",
       "      <td>2014-08-27 11:30:22</td>\n",
       "      <td>31</td>\n",
       "      <td>Male</td>\n",
       "      <td>United States</td>\n",
       "      <td>TX</td>\n",
       "      <td>NaN</td>\n",
       "      <td>No</td>\n",
       "      <td>No</td>\n",
       "      <td>Never</td>\n",
       "      <td>100-500</td>\n",
       "      <td>...</td>\n",
       "      <td>Don't know</td>\n",
       "      <td>No</td>\n",
       "      <td>No</td>\n",
       "      <td>Some of them</td>\n",
       "      <td>Yes</td>\n",
       "      <td>Yes</td>\n",
       "      <td>Yes</td>\n",
       "      <td>Don't know</td>\n",
       "      <td>No</td>\n",
       "      <td>NaN</td>\n",
       "    </tr>\n",
       "  </tbody>\n",
       "</table>\n",
       "<p>5 rows × 27 columns</p>\n",
       "</div>"
      ],
      "text/plain": [
       "             Timestamp  Age  Gender         Country state self_employed  \\\n",
       "0  2014-08-27 11:29:31   37  Female   United States    IL           NaN   \n",
       "1  2014-08-27 11:29:37   44       M   United States    IN           NaN   \n",
       "2  2014-08-27 11:29:44   32    Male          Canada   NaN           NaN   \n",
       "3  2014-08-27 11:29:46   31    Male  United Kingdom   NaN           NaN   \n",
       "4  2014-08-27 11:30:22   31    Male   United States    TX           NaN   \n",
       "\n",
       "  family_history treatment work_interfere    no_employees   ...     \\\n",
       "0             No       Yes          Often            6-25   ...      \n",
       "1             No        No         Rarely  More than 1000   ...      \n",
       "2             No        No         Rarely            6-25   ...      \n",
       "3            Yes       Yes          Often          26-100   ...      \n",
       "4             No        No          Never         100-500   ...      \n",
       "\n",
       "                leave mental_health_consequence phys_health_consequence  \\\n",
       "0       Somewhat easy                        No                      No   \n",
       "1          Don't know                     Maybe                      No   \n",
       "2  Somewhat difficult                        No                      No   \n",
       "3  Somewhat difficult                       Yes                     Yes   \n",
       "4          Don't know                        No                      No   \n",
       "\n",
       "      coworkers supervisor mental_health_interview phys_health_interview  \\\n",
       "0  Some of them        Yes                      No                 Maybe   \n",
       "1            No         No                      No                    No   \n",
       "2           Yes        Yes                     Yes                   Yes   \n",
       "3  Some of them         No                   Maybe                 Maybe   \n",
       "4  Some of them        Yes                     Yes                   Yes   \n",
       "\n",
       "  mental_vs_physical obs_consequence comments  \n",
       "0                Yes              No      NaN  \n",
       "1         Don't know              No      NaN  \n",
       "2                 No              No      NaN  \n",
       "3                 No             Yes      NaN  \n",
       "4         Don't know              No      NaN  \n",
       "\n",
       "[5 rows x 27 columns]"
      ]
     },
     "execution_count": 1243,
     "metadata": {},
     "output_type": "execute_result"
    }
   ],
   "source": [
    "data.head(5)"
   ]
  },
  {
   "cell_type": "code",
   "execution_count": 1244,
   "metadata": {},
   "outputs": [
    {
     "data": {
      "text/plain": [
       "Timestamp                    object\n",
       "Age                           int64\n",
       "Gender                       object\n",
       "Country                      object\n",
       "state                        object\n",
       "self_employed                object\n",
       "family_history               object\n",
       "treatment                    object\n",
       "work_interfere               object\n",
       "no_employees                 object\n",
       "remote_work                  object\n",
       "tech_company                 object\n",
       "benefits                     object\n",
       "care_options                 object\n",
       "wellness_program             object\n",
       "seek_help                    object\n",
       "anonymity                    object\n",
       "leave                        object\n",
       "mental_health_consequence    object\n",
       "phys_health_consequence      object\n",
       "coworkers                    object\n",
       "supervisor                   object\n",
       "mental_health_interview      object\n",
       "phys_health_interview        object\n",
       "mental_vs_physical           object\n",
       "obs_consequence              object\n",
       "comments                     object\n",
       "dtype: object"
      ]
     },
     "execution_count": 1244,
     "metadata": {},
     "output_type": "execute_result"
    }
   ],
   "source": [
    "data.dtypes"
   ]
  },
  {
   "cell_type": "markdown",
   "metadata": {},
   "source": [
    "“object”  in Pandas’ world is a string (text).\n",
    "\n"
   ]
  },
  {
   "cell_type": "code",
   "execution_count": 1245,
   "metadata": {},
   "outputs": [
    {
     "data": {
      "text/plain": [
       "str"
      ]
     },
     "execution_count": 1245,
     "metadata": {},
     "output_type": "execute_result"
    }
   ],
   "source": [
    "type(data[\"Timestamp\"][0] )"
   ]
  },
  {
   "cell_type": "code",
   "execution_count": 1246,
   "metadata": {
    "scrolled": true
   },
   "outputs": [
    {
     "data": {
      "text/plain": [
       "Timestamp                       0\n",
       "Age                             0\n",
       "Gender                          0\n",
       "Country                         0\n",
       "state                         515\n",
       "self_employed                  18\n",
       "family_history                  0\n",
       "treatment                       0\n",
       "work_interfere                264\n",
       "no_employees                    0\n",
       "remote_work                     0\n",
       "tech_company                    0\n",
       "benefits                        0\n",
       "care_options                    0\n",
       "wellness_program                0\n",
       "seek_help                       0\n",
       "anonymity                       0\n",
       "leave                           0\n",
       "mental_health_consequence       0\n",
       "phys_health_consequence         0\n",
       "coworkers                       0\n",
       "supervisor                      0\n",
       "mental_health_interview         0\n",
       "phys_health_interview           0\n",
       "mental_vs_physical              0\n",
       "obs_consequence                 0\n",
       "comments                     1095\n",
       "dtype: int64"
      ]
     },
     "execution_count": 1246,
     "metadata": {},
     "output_type": "execute_result"
    }
   ],
   "source": [
    "# missing values in each column\n",
    "data.isnull().sum()\n"
   ]
  },
  {
   "cell_type": "markdown",
   "metadata": {},
   "source": [
    "coulumns with missing values:\n",
    "\n",
    "state                         515\n",
    "\n",
    "self_employed                  18\n",
    "\n",
    "work_interfere                264\n",
    "\n",
    "comments                     1095\n"
   ]
  },
  {
   "cell_type": "markdown",
   "metadata": {},
   "source": [
    "Since the timestap column isn't meaningful, then comments and state columns has more than a half missing value, it's better to drop the columns "
   ]
  },
  {
   "cell_type": "code",
   "execution_count": 1247,
   "metadata": {
    "collapsed": true
   },
   "outputs": [],
   "source": [
    "#drop useless columns\n",
    "data=data.drop(['comments'], axis= 1)\n",
    "data=data.drop(['Timestamp'], axis= 1)\n"
   ]
  },
  {
   "cell_type": "code",
   "execution_count": 1248,
   "metadata": {
    "collapsed": true
   },
   "outputs": [],
   "source": [
    "data=data.drop([\"state\"],axis=1)"
   ]
  },
  {
   "cell_type": "code",
   "execution_count": 1249,
   "metadata": {},
   "outputs": [
    {
     "data": {
      "text/html": [
       "<div>\n",
       "<style>\n",
       "    .dataframe thead tr:only-child th {\n",
       "        text-align: right;\n",
       "    }\n",
       "\n",
       "    .dataframe thead th {\n",
       "        text-align: left;\n",
       "    }\n",
       "\n",
       "    .dataframe tbody tr th {\n",
       "        vertical-align: top;\n",
       "    }\n",
       "</style>\n",
       "<table border=\"1\" class=\"dataframe\">\n",
       "  <thead>\n",
       "    <tr style=\"text-align: right;\">\n",
       "      <th></th>\n",
       "      <th>Age</th>\n",
       "      <th>Gender</th>\n",
       "      <th>Country</th>\n",
       "      <th>self_employed</th>\n",
       "      <th>family_history</th>\n",
       "      <th>treatment</th>\n",
       "      <th>work_interfere</th>\n",
       "      <th>no_employees</th>\n",
       "      <th>remote_work</th>\n",
       "      <th>tech_company</th>\n",
       "      <th>...</th>\n",
       "      <th>anonymity</th>\n",
       "      <th>leave</th>\n",
       "      <th>mental_health_consequence</th>\n",
       "      <th>phys_health_consequence</th>\n",
       "      <th>coworkers</th>\n",
       "      <th>supervisor</th>\n",
       "      <th>mental_health_interview</th>\n",
       "      <th>phys_health_interview</th>\n",
       "      <th>mental_vs_physical</th>\n",
       "      <th>obs_consequence</th>\n",
       "    </tr>\n",
       "  </thead>\n",
       "  <tbody>\n",
       "    <tr>\n",
       "      <th>0</th>\n",
       "      <td>37</td>\n",
       "      <td>Female</td>\n",
       "      <td>United States</td>\n",
       "      <td>NaN</td>\n",
       "      <td>No</td>\n",
       "      <td>Yes</td>\n",
       "      <td>Often</td>\n",
       "      <td>6-25</td>\n",
       "      <td>No</td>\n",
       "      <td>Yes</td>\n",
       "      <td>...</td>\n",
       "      <td>Yes</td>\n",
       "      <td>Somewhat easy</td>\n",
       "      <td>No</td>\n",
       "      <td>No</td>\n",
       "      <td>Some of them</td>\n",
       "      <td>Yes</td>\n",
       "      <td>No</td>\n",
       "      <td>Maybe</td>\n",
       "      <td>Yes</td>\n",
       "      <td>No</td>\n",
       "    </tr>\n",
       "    <tr>\n",
       "      <th>1</th>\n",
       "      <td>44</td>\n",
       "      <td>M</td>\n",
       "      <td>United States</td>\n",
       "      <td>NaN</td>\n",
       "      <td>No</td>\n",
       "      <td>No</td>\n",
       "      <td>Rarely</td>\n",
       "      <td>More than 1000</td>\n",
       "      <td>No</td>\n",
       "      <td>No</td>\n",
       "      <td>...</td>\n",
       "      <td>Don't know</td>\n",
       "      <td>Don't know</td>\n",
       "      <td>Maybe</td>\n",
       "      <td>No</td>\n",
       "      <td>No</td>\n",
       "      <td>No</td>\n",
       "      <td>No</td>\n",
       "      <td>No</td>\n",
       "      <td>Don't know</td>\n",
       "      <td>No</td>\n",
       "    </tr>\n",
       "    <tr>\n",
       "      <th>2</th>\n",
       "      <td>32</td>\n",
       "      <td>Male</td>\n",
       "      <td>Canada</td>\n",
       "      <td>NaN</td>\n",
       "      <td>No</td>\n",
       "      <td>No</td>\n",
       "      <td>Rarely</td>\n",
       "      <td>6-25</td>\n",
       "      <td>No</td>\n",
       "      <td>Yes</td>\n",
       "      <td>...</td>\n",
       "      <td>Don't know</td>\n",
       "      <td>Somewhat difficult</td>\n",
       "      <td>No</td>\n",
       "      <td>No</td>\n",
       "      <td>Yes</td>\n",
       "      <td>Yes</td>\n",
       "      <td>Yes</td>\n",
       "      <td>Yes</td>\n",
       "      <td>No</td>\n",
       "      <td>No</td>\n",
       "    </tr>\n",
       "    <tr>\n",
       "      <th>3</th>\n",
       "      <td>31</td>\n",
       "      <td>Male</td>\n",
       "      <td>United Kingdom</td>\n",
       "      <td>NaN</td>\n",
       "      <td>Yes</td>\n",
       "      <td>Yes</td>\n",
       "      <td>Often</td>\n",
       "      <td>26-100</td>\n",
       "      <td>No</td>\n",
       "      <td>Yes</td>\n",
       "      <td>...</td>\n",
       "      <td>No</td>\n",
       "      <td>Somewhat difficult</td>\n",
       "      <td>Yes</td>\n",
       "      <td>Yes</td>\n",
       "      <td>Some of them</td>\n",
       "      <td>No</td>\n",
       "      <td>Maybe</td>\n",
       "      <td>Maybe</td>\n",
       "      <td>No</td>\n",
       "      <td>Yes</td>\n",
       "    </tr>\n",
       "    <tr>\n",
       "      <th>4</th>\n",
       "      <td>31</td>\n",
       "      <td>Male</td>\n",
       "      <td>United States</td>\n",
       "      <td>NaN</td>\n",
       "      <td>No</td>\n",
       "      <td>No</td>\n",
       "      <td>Never</td>\n",
       "      <td>100-500</td>\n",
       "      <td>Yes</td>\n",
       "      <td>Yes</td>\n",
       "      <td>...</td>\n",
       "      <td>Don't know</td>\n",
       "      <td>Don't know</td>\n",
       "      <td>No</td>\n",
       "      <td>No</td>\n",
       "      <td>Some of them</td>\n",
       "      <td>Yes</td>\n",
       "      <td>Yes</td>\n",
       "      <td>Yes</td>\n",
       "      <td>Don't know</td>\n",
       "      <td>No</td>\n",
       "    </tr>\n",
       "  </tbody>\n",
       "</table>\n",
       "<p>5 rows × 24 columns</p>\n",
       "</div>"
      ],
      "text/plain": [
       "   Age  Gender         Country self_employed family_history treatment  \\\n",
       "0   37  Female   United States           NaN             No       Yes   \n",
       "1   44       M   United States           NaN             No        No   \n",
       "2   32    Male          Canada           NaN             No        No   \n",
       "3   31    Male  United Kingdom           NaN            Yes       Yes   \n",
       "4   31    Male   United States           NaN             No        No   \n",
       "\n",
       "  work_interfere    no_employees remote_work tech_company       ...        \\\n",
       "0          Often            6-25          No          Yes       ...         \n",
       "1         Rarely  More than 1000          No           No       ...         \n",
       "2         Rarely            6-25          No          Yes       ...         \n",
       "3          Often          26-100          No          Yes       ...         \n",
       "4          Never         100-500         Yes          Yes       ...         \n",
       "\n",
       "    anonymity               leave mental_health_consequence  \\\n",
       "0         Yes       Somewhat easy                        No   \n",
       "1  Don't know          Don't know                     Maybe   \n",
       "2  Don't know  Somewhat difficult                        No   \n",
       "3          No  Somewhat difficult                       Yes   \n",
       "4  Don't know          Don't know                        No   \n",
       "\n",
       "  phys_health_consequence     coworkers supervisor mental_health_interview  \\\n",
       "0                      No  Some of them        Yes                      No   \n",
       "1                      No            No         No                      No   \n",
       "2                      No           Yes        Yes                     Yes   \n",
       "3                     Yes  Some of them         No                   Maybe   \n",
       "4                      No  Some of them        Yes                     Yes   \n",
       "\n",
       "  phys_health_interview mental_vs_physical obs_consequence  \n",
       "0                 Maybe                Yes              No  \n",
       "1                    No         Don't know              No  \n",
       "2                   Yes                 No              No  \n",
       "3                 Maybe                 No             Yes  \n",
       "4                   Yes         Don't know              No  \n",
       "\n",
       "[5 rows x 24 columns]"
      ]
     },
     "execution_count": 1249,
     "metadata": {},
     "output_type": "execute_result"
    }
   ],
   "source": [
    "data.head(5)"
   ]
  },
  {
   "cell_type": "code",
   "execution_count": 1250,
   "metadata": {
    "scrolled": true
   },
   "outputs": [
    {
     "data": {
      "text/plain": [
       "array(['Female', 'M', 'Male', 'male', 'female', 'm', 'Male-ish', 'maile',\n",
       "       'Trans-female', 'Cis Female', 'F', 'something kinda male?',\n",
       "       'Cis Male', 'Woman', 'f', 'Mal', 'Male (CIS)', 'queer/she/they',\n",
       "       'non-binary', 'Femake', 'woman', 'Make', 'Nah', 'All', 'Enby',\n",
       "       'fluid', 'Genderqueer', 'Female ', 'Androgyne', 'Agender',\n",
       "       'cis-female/femme', 'Guy (-ish) ^_^', 'male leaning androgynous',\n",
       "       'Male ', 'Man', 'Trans woman', 'msle', 'Neuter', 'Female (trans)',\n",
       "       'queer', 'Female (cis)', 'Mail', 'cis male', 'A little about you',\n",
       "       'Malr', 'p', 'femail', 'Cis Man',\n",
       "       'ostensibly male, unsure what that really means'], dtype=object)"
      ]
     },
     "execution_count": 1250,
     "metadata": {},
     "output_type": "execute_result"
    }
   ],
   "source": [
    "#check column values\n",
    "data[\"Gender\"].unique() "
   ]
  },
  {
   "cell_type": "code",
   "execution_count": 1251,
   "metadata": {},
   "outputs": [
    {
     "data": {
      "text/plain": [
       "49"
      ]
     },
     "execution_count": 1251,
     "metadata": {},
     "output_type": "execute_result"
    }
   ],
   "source": [
    "len(data[\"Gender\"].unique() )"
   ]
  },
  {
   "cell_type": "markdown",
   "metadata": {},
   "source": [
    "There are too many levels in the gender features. Reclassified them into 4 categories"
   ]
  },
  {
   "cell_type": "code",
   "execution_count": 1252,
   "metadata": {
    "collapsed": true
   },
   "outputs": [],
   "source": [
    "#reclassify the gender label \n",
    "male_list=['M', 'Male', 'male','m', 'maile','something kinda male?','Male (CIS)','Cis Male','Mal','Make',\n",
    "       'Male ', 'Man','msle','Mail', 'cis male','Malr', 'Cis Man']"
   ]
  },
  {
   "cell_type": "code",
   "execution_count": 1253,
   "metadata": {
    "collapsed": true
   },
   "outputs": [],
   "source": [
    "female_list=['Female','female', 'F','Cis Female','Woman', 'f','Femake', 'woman','Female ','cis-female/femme','Female (cis)',\n",
    "       'femail']"
   ]
  },
  {
   "cell_type": "code",
   "execution_count": 1254,
   "metadata": {
    "collapsed": true
   },
   "outputs": [],
   "source": [
    "trans_list=['Trans-female','Trans woman','Female (trans)']"
   ]
  },
  {
   "cell_type": "code",
   "execution_count": 1255,
   "metadata": {
    "collapsed": true
   },
   "outputs": [],
   "source": [
    "non_binary_list=['queer/she/they','Male-ish','non-binary','Nah', 'Guy (-ish) ^_^',\"male leaning androgynous\",\n",
    "            'All','fluid',\"Enby\", 'Genderqueer','Androgyne', 'Agender','Neuter','queer','ostensibly male, unsure what that really means']"
   ]
  },
  {
   "cell_type": "code",
   "execution_count": 1256,
   "metadata": {
    "collapsed": true
   },
   "outputs": [],
   "source": [
    "what_list=['p','A little about you']"
   ]
  },
  {
   "cell_type": "code",
   "execution_count": 1257,
   "metadata": {},
   "outputs": [
    {
     "data": {
      "text/plain": [
       "49"
      ]
     },
     "execution_count": 1257,
     "metadata": {},
     "output_type": "execute_result"
    }
   ],
   "source": [
    "len(male)+len(female)+len(trans)+len(what_list)+len(non_binary)"
   ]
  },
  {
   "cell_type": "code",
   "execution_count": 1258,
   "metadata": {
    "collapsed": true
   },
   "outputs": [],
   "source": [
    "data[\"Gender\"]=data[\"Gender\"].replace(male_list, \"male\")"
   ]
  },
  {
   "cell_type": "code",
   "execution_count": 1259,
   "metadata": {
    "collapsed": true
   },
   "outputs": [],
   "source": [
    "data[\"Gender\"]=data[\"Gender\"].replace(female_list, \"female\")"
   ]
  },
  {
   "cell_type": "code",
   "execution_count": 1260,
   "metadata": {
    "collapsed": true
   },
   "outputs": [],
   "source": [
    "data[\"Gender\"]=data[\"Gender\"].replace(trans_list, \"trans\")"
   ]
  },
  {
   "cell_type": "code",
   "execution_count": 1261,
   "metadata": {
    "collapsed": true
   },
   "outputs": [],
   "source": [
    "data[\"Gender\"]=data[\"Gender\"].replace(non_binary_list, \"non_binary\")"
   ]
  },
  {
   "cell_type": "code",
   "execution_count": 1262,
   "metadata": {
    "collapsed": true
   },
   "outputs": [],
   "source": [
    "def findIndex(num):\n",
    "        for i in range(len(data)):\n",
    "            if data[\"Gender\"][i]==num:\n",
    "                  print(i)"
   ]
  },
  {
   "cell_type": "code",
   "execution_count": 1263,
   "metadata": {},
   "outputs": [
    {
     "name": "stdout",
     "output_type": "stream",
     "text": [
      "989\n"
     ]
    }
   ],
   "source": [
    "findIndex('A little about you')"
   ]
  },
  {
   "cell_type": "code",
   "execution_count": 1264,
   "metadata": {},
   "outputs": [
    {
     "data": {
      "text/plain": [
       "'p'"
      ]
     },
     "execution_count": 1264,
     "metadata": {},
     "output_type": "execute_result"
    }
   ],
   "source": [
    "data[\"Gender\"][1127]"
   ]
  },
  {
   "cell_type": "code",
   "execution_count": 1265,
   "metadata": {
    "collapsed": true
   },
   "outputs": [],
   "source": [
    "data=data.drop([1127,989])"
   ]
  },
  {
   "cell_type": "code",
   "execution_count": 1266,
   "metadata": {},
   "outputs": [
    {
     "data": {
      "text/plain": [
       "array(['female', 'male', 'non_binary', 'trans'], dtype=object)"
      ]
     },
     "execution_count": 1266,
     "metadata": {},
     "output_type": "execute_result"
    }
   ],
   "source": [
    "data[\"Gender\"].unique()"
   ]
  },
  {
   "cell_type": "code",
   "execution_count": 1267,
   "metadata": {},
   "outputs": [
    {
     "data": {
      "text/plain": [
       "array(['Somewhat easy', \"Don't know\", 'Somewhat difficult',\n",
       "       'Very difficult', 'Very easy'], dtype=object)"
      ]
     },
     "execution_count": 1267,
     "metadata": {},
     "output_type": "execute_result"
    }
   ],
   "source": [
    "data[\"leave\"].unique()"
   ]
  },
  {
   "cell_type": "code",
   "execution_count": 1268,
   "metadata": {},
   "outputs": [
    {
     "data": {
      "text/plain": [
       "array([         37,          44,          32,          31,          33,\n",
       "                35,          39,          42,          23,          29,\n",
       "                36,          27,          46,          41,          34,\n",
       "                30,          40,          38,          50,          24,\n",
       "                18,          28,          26,          22,          19,\n",
       "                25,          45,          21,         -29,          43,\n",
       "                56,          60,          54,         329,          55,\n",
       "       99999999999,          48,          20,          57,          58,\n",
       "                47,          62,          51,          65,          49,\n",
       "             -1726,           5,          53,          61,          11,\n",
       "                72])"
      ]
     },
     "execution_count": 1268,
     "metadata": {},
     "output_type": "execute_result"
    }
   ],
   "source": [
    "data[\"Age\"].unique()"
   ]
  },
  {
   "cell_type": "code",
   "execution_count": 1269,
   "metadata": {},
   "outputs": [
    {
     "data": {
      "text/plain": [
       " 29             85\n",
       " 32             82\n",
       " 26             75\n",
       " 27             71\n",
       " 33             70\n",
       " 28             68\n",
       " 31             67\n",
       " 34             65\n",
       " 30             63\n",
       " 25             61\n",
       " 35             55\n",
       " 23             51\n",
       " 24             46\n",
       " 37             43\n",
       " 38             39\n",
       " 36             37\n",
       " 39             33\n",
       " 40             33\n",
       " 43             28\n",
       " 41             21\n",
       " 22             21\n",
       " 42             20\n",
       " 21             16\n",
       " 46             12\n",
       " 45             12\n",
       " 44             11\n",
       " 19              9\n",
       " 18              7\n",
       " 48              6\n",
       " 50              6\n",
       " 20              6\n",
       " 51              5\n",
       " 56              4\n",
       " 49              4\n",
       " 57              3\n",
       " 55              3\n",
       " 54              3\n",
       " 60              2\n",
       " 47              2\n",
       " 11              1\n",
       " 99999999999     1\n",
       "-1726            1\n",
       " 53              1\n",
       " 58              1\n",
       " 61              1\n",
       " 62              1\n",
       " 65              1\n",
       " 72              1\n",
       " 329             1\n",
       "-29              1\n",
       " 5               1\n",
       "Name: Age, dtype: int64"
      ]
     },
     "execution_count": 1269,
     "metadata": {},
     "output_type": "execute_result"
    }
   ],
   "source": [
    "data[\"Age\"].value_counts()"
   ]
  },
  {
   "cell_type": "markdown",
   "metadata": {},
   "source": [
    "Change the impossible age values like 99999999999, 329,-1726,-29,-1 to the median of age"
   ]
  },
  {
   "cell_type": "code",
   "execution_count": 1270,
   "metadata": {},
   "outputs": [
    {
     "data": {
      "text/plain": [
       "31.0"
      ]
     },
     "execution_count": 1270,
     "metadata": {},
     "output_type": "execute_result"
    }
   ],
   "source": [
    "data[\"Age\"].median()"
   ]
  },
  {
   "cell_type": "code",
   "execution_count": 1271,
   "metadata": {
    "collapsed": true
   },
   "outputs": [],
   "source": [
    "data['Age']=data['Age'].replace([99999999999, 329,-1726,-29,-1 ], 31)"
   ]
  },
  {
   "cell_type": "code",
   "execution_count": 1272,
   "metadata": {},
   "outputs": [
    {
     "data": {
      "text/plain": [
       "array(['Yes', 'No'], dtype=object)"
      ]
     },
     "execution_count": 1272,
     "metadata": {},
     "output_type": "execute_result"
    }
   ],
   "source": [
    "data[\"treatment\"].unique()"
   ]
  },
  {
   "cell_type": "code",
   "execution_count": 1273,
   "metadata": {},
   "outputs": [
    {
     "data": {
      "text/plain": [
       "array([nan, 'Yes', 'No'], dtype=object)"
      ]
     },
     "execution_count": 1273,
     "metadata": {},
     "output_type": "execute_result"
    }
   ],
   "source": [
    "data[\"self_employed\"].unique()"
   ]
  },
  {
   "cell_type": "code",
   "execution_count": 1274,
   "metadata": {
    "collapsed": true
   },
   "outputs": [],
   "source": [
    "#deal with Nan value\n",
    "data2=data.fillna(value=\"Nan\")"
   ]
  },
  {
   "cell_type": "code",
   "execution_count": 1275,
   "metadata": {},
   "outputs": [
    {
     "data": {
      "text/plain": [
       "Age                          0\n",
       "Gender                       0\n",
       "Country                      0\n",
       "self_employed                0\n",
       "family_history               0\n",
       "treatment                    0\n",
       "work_interfere               0\n",
       "no_employees                 0\n",
       "remote_work                  0\n",
       "tech_company                 0\n",
       "benefits                     0\n",
       "care_options                 0\n",
       "wellness_program             0\n",
       "seek_help                    0\n",
       "anonymity                    0\n",
       "leave                        0\n",
       "mental_health_consequence    0\n",
       "phys_health_consequence      0\n",
       "coworkers                    0\n",
       "supervisor                   0\n",
       "mental_health_interview      0\n",
       "phys_health_interview        0\n",
       "mental_vs_physical           0\n",
       "obs_consequence              0\n",
       "dtype: int64"
      ]
     },
     "execution_count": 1275,
     "metadata": {},
     "output_type": "execute_result"
    }
   ],
   "source": [
    "data2.isnull().sum()"
   ]
  },
  {
   "cell_type": "code",
   "execution_count": 1276,
   "metadata": {
    "collapsed": true
   },
   "outputs": [],
   "source": [
    "#encode categorical features\n",
    "from sklearn.preprocessing import LabelEncoder"
   ]
  },
  {
   "cell_type": "code",
   "execution_count": 1277,
   "metadata": {
    "collapsed": true
   },
   "outputs": [],
   "source": [
    "data_trans=data2.apply(LabelEncoder().fit_transform)"
   ]
  },
  {
   "cell_type": "code",
   "execution_count": 1278,
   "metadata": {},
   "outputs": [
    {
     "data": {
      "text/html": [
       "<div>\n",
       "<style>\n",
       "    .dataframe thead tr:only-child th {\n",
       "        text-align: right;\n",
       "    }\n",
       "\n",
       "    .dataframe thead th {\n",
       "        text-align: left;\n",
       "    }\n",
       "\n",
       "    .dataframe tbody tr th {\n",
       "        vertical-align: top;\n",
       "    }\n",
       "</style>\n",
       "<table border=\"1\" class=\"dataframe\">\n",
       "  <thead>\n",
       "    <tr style=\"text-align: right;\">\n",
       "      <th></th>\n",
       "      <th>Age</th>\n",
       "      <th>Gender</th>\n",
       "      <th>Country</th>\n",
       "      <th>self_employed</th>\n",
       "      <th>family_history</th>\n",
       "      <th>treatment</th>\n",
       "      <th>work_interfere</th>\n",
       "      <th>no_employees</th>\n",
       "      <th>remote_work</th>\n",
       "      <th>tech_company</th>\n",
       "      <th>...</th>\n",
       "      <th>anonymity</th>\n",
       "      <th>leave</th>\n",
       "      <th>mental_health_consequence</th>\n",
       "      <th>phys_health_consequence</th>\n",
       "      <th>coworkers</th>\n",
       "      <th>supervisor</th>\n",
       "      <th>mental_health_interview</th>\n",
       "      <th>phys_health_interview</th>\n",
       "      <th>mental_vs_physical</th>\n",
       "      <th>obs_consequence</th>\n",
       "    </tr>\n",
       "  </thead>\n",
       "  <tbody>\n",
       "    <tr>\n",
       "      <th>0</th>\n",
       "      <td>21</td>\n",
       "      <td>0</td>\n",
       "      <td>44</td>\n",
       "      <td>0</td>\n",
       "      <td>0</td>\n",
       "      <td>1</td>\n",
       "      <td>2</td>\n",
       "      <td>4</td>\n",
       "      <td>0</td>\n",
       "      <td>1</td>\n",
       "      <td>...</td>\n",
       "      <td>2</td>\n",
       "      <td>2</td>\n",
       "      <td>1</td>\n",
       "      <td>1</td>\n",
       "      <td>1</td>\n",
       "      <td>2</td>\n",
       "      <td>1</td>\n",
       "      <td>0</td>\n",
       "      <td>2</td>\n",
       "      <td>0</td>\n",
       "    </tr>\n",
       "    <tr>\n",
       "      <th>1</th>\n",
       "      <td>28</td>\n",
       "      <td>1</td>\n",
       "      <td>44</td>\n",
       "      <td>0</td>\n",
       "      <td>0</td>\n",
       "      <td>0</td>\n",
       "      <td>3</td>\n",
       "      <td>5</td>\n",
       "      <td>0</td>\n",
       "      <td>0</td>\n",
       "      <td>...</td>\n",
       "      <td>0</td>\n",
       "      <td>0</td>\n",
       "      <td>0</td>\n",
       "      <td>1</td>\n",
       "      <td>0</td>\n",
       "      <td>0</td>\n",
       "      <td>1</td>\n",
       "      <td>1</td>\n",
       "      <td>0</td>\n",
       "      <td>0</td>\n",
       "    </tr>\n",
       "    <tr>\n",
       "      <th>2</th>\n",
       "      <td>16</td>\n",
       "      <td>1</td>\n",
       "      <td>6</td>\n",
       "      <td>0</td>\n",
       "      <td>0</td>\n",
       "      <td>0</td>\n",
       "      <td>3</td>\n",
       "      <td>4</td>\n",
       "      <td>0</td>\n",
       "      <td>1</td>\n",
       "      <td>...</td>\n",
       "      <td>0</td>\n",
       "      <td>1</td>\n",
       "      <td>1</td>\n",
       "      <td>1</td>\n",
       "      <td>2</td>\n",
       "      <td>2</td>\n",
       "      <td>2</td>\n",
       "      <td>2</td>\n",
       "      <td>1</td>\n",
       "      <td>0</td>\n",
       "    </tr>\n",
       "    <tr>\n",
       "      <th>3</th>\n",
       "      <td>15</td>\n",
       "      <td>1</td>\n",
       "      <td>43</td>\n",
       "      <td>0</td>\n",
       "      <td>1</td>\n",
       "      <td>1</td>\n",
       "      <td>2</td>\n",
       "      <td>2</td>\n",
       "      <td>0</td>\n",
       "      <td>1</td>\n",
       "      <td>...</td>\n",
       "      <td>1</td>\n",
       "      <td>1</td>\n",
       "      <td>2</td>\n",
       "      <td>2</td>\n",
       "      <td>1</td>\n",
       "      <td>0</td>\n",
       "      <td>0</td>\n",
       "      <td>0</td>\n",
       "      <td>1</td>\n",
       "      <td>1</td>\n",
       "    </tr>\n",
       "    <tr>\n",
       "      <th>4</th>\n",
       "      <td>15</td>\n",
       "      <td>1</td>\n",
       "      <td>44</td>\n",
       "      <td>0</td>\n",
       "      <td>0</td>\n",
       "      <td>0</td>\n",
       "      <td>1</td>\n",
       "      <td>1</td>\n",
       "      <td>1</td>\n",
       "      <td>1</td>\n",
       "      <td>...</td>\n",
       "      <td>0</td>\n",
       "      <td>0</td>\n",
       "      <td>1</td>\n",
       "      <td>1</td>\n",
       "      <td>1</td>\n",
       "      <td>2</td>\n",
       "      <td>2</td>\n",
       "      <td>2</td>\n",
       "      <td>0</td>\n",
       "      <td>0</td>\n",
       "    </tr>\n",
       "  </tbody>\n",
       "</table>\n",
       "<p>5 rows × 24 columns</p>\n",
       "</div>"
      ],
      "text/plain": [
       "   Age  Gender  Country  self_employed  family_history  treatment  \\\n",
       "0   21       0       44              0               0          1   \n",
       "1   28       1       44              0               0          0   \n",
       "2   16       1        6              0               0          0   \n",
       "3   15       1       43              0               1          1   \n",
       "4   15       1       44              0               0          0   \n",
       "\n",
       "   work_interfere  no_employees  remote_work  tech_company       ...         \\\n",
       "0               2             4            0             1       ...          \n",
       "1               3             5            0             0       ...          \n",
       "2               3             4            0             1       ...          \n",
       "3               2             2            0             1       ...          \n",
       "4               1             1            1             1       ...          \n",
       "\n",
       "   anonymity  leave  mental_health_consequence  phys_health_consequence  \\\n",
       "0          2      2                          1                        1   \n",
       "1          0      0                          0                        1   \n",
       "2          0      1                          1                        1   \n",
       "3          1      1                          2                        2   \n",
       "4          0      0                          1                        1   \n",
       "\n",
       "   coworkers  supervisor  mental_health_interview  phys_health_interview  \\\n",
       "0          1           2                        1                      0   \n",
       "1          0           0                        1                      1   \n",
       "2          2           2                        2                      2   \n",
       "3          1           0                        0                      0   \n",
       "4          1           2                        2                      2   \n",
       "\n",
       "   mental_vs_physical  obs_consequence  \n",
       "0                   2                0  \n",
       "1                   0                0  \n",
       "2                   1                0  \n",
       "3                   1                1  \n",
       "4                   0                0  \n",
       "\n",
       "[5 rows x 24 columns]"
      ]
     },
     "execution_count": 1278,
     "metadata": {},
     "output_type": "execute_result"
    }
   ],
   "source": [
    "data_trans.head(5)"
   ]
  },
  {
   "cell_type": "code",
   "execution_count": 1279,
   "metadata": {},
   "outputs": [
    {
     "data": {
      "text/html": [
       "<div>\n",
       "<style>\n",
       "    .dataframe thead tr:only-child th {\n",
       "        text-align: right;\n",
       "    }\n",
       "\n",
       "    .dataframe thead th {\n",
       "        text-align: left;\n",
       "    }\n",
       "\n",
       "    .dataframe tbody tr th {\n",
       "        vertical-align: top;\n",
       "    }\n",
       "</style>\n",
       "<table border=\"1\" class=\"dataframe\">\n",
       "  <thead>\n",
       "    <tr style=\"text-align: right;\">\n",
       "      <th></th>\n",
       "      <th>Age</th>\n",
       "      <th>Gender</th>\n",
       "      <th>Country</th>\n",
       "      <th>self_employed</th>\n",
       "      <th>family_history</th>\n",
       "      <th>treatment</th>\n",
       "      <th>work_interfere</th>\n",
       "      <th>no_employees</th>\n",
       "      <th>remote_work</th>\n",
       "      <th>tech_company</th>\n",
       "      <th>...</th>\n",
       "      <th>anonymity</th>\n",
       "      <th>leave</th>\n",
       "      <th>mental_health_consequence</th>\n",
       "      <th>phys_health_consequence</th>\n",
       "      <th>coworkers</th>\n",
       "      <th>supervisor</th>\n",
       "      <th>mental_health_interview</th>\n",
       "      <th>phys_health_interview</th>\n",
       "      <th>mental_vs_physical</th>\n",
       "      <th>obs_consequence</th>\n",
       "    </tr>\n",
       "  </thead>\n",
       "  <tbody>\n",
       "    <tr>\n",
       "      <th>Age</th>\n",
       "      <td>1.000000</td>\n",
       "      <td>0.055569</td>\n",
       "      <td>0.151630</td>\n",
       "      <td>0.056759</td>\n",
       "      <td>0.011732</td>\n",
       "      <td>0.075760</td>\n",
       "      <td>0.042380</td>\n",
       "      <td>0.032466</td>\n",
       "      <td>0.143436</td>\n",
       "      <td>-0.057116</td>\n",
       "      <td>...</td>\n",
       "      <td>0.025353</td>\n",
       "      <td>-0.014259</td>\n",
       "      <td>0.027967</td>\n",
       "      <td>-0.050933</td>\n",
       "      <td>-0.009894</td>\n",
       "      <td>0.006917</td>\n",
       "      <td>0.062044</td>\n",
       "      <td>-0.021660</td>\n",
       "      <td>-0.016287</td>\n",
       "      <td>0.069749</td>\n",
       "    </tr>\n",
       "    <tr>\n",
       "      <th>Gender</th>\n",
       "      <td>0.055569</td>\n",
       "      <td>1.000000</td>\n",
       "      <td>-0.071155</td>\n",
       "      <td>0.044827</td>\n",
       "      <td>-0.122491</td>\n",
       "      <td>-0.138354</td>\n",
       "      <td>-0.080788</td>\n",
       "      <td>0.024641</td>\n",
       "      <td>-0.009406</td>\n",
       "      <td>0.053937</td>\n",
       "      <td>...</td>\n",
       "      <td>-0.021121</td>\n",
       "      <td>0.030428</td>\n",
       "      <td>0.030217</td>\n",
       "      <td>0.022108</td>\n",
       "      <td>0.042532</td>\n",
       "      <td>0.059698</td>\n",
       "      <td>-0.040418</td>\n",
       "      <td>-0.016751</td>\n",
       "      <td>-0.006311</td>\n",
       "      <td>-0.034115</td>\n",
       "    </tr>\n",
       "    <tr>\n",
       "      <th>Country</th>\n",
       "      <td>0.151630</td>\n",
       "      <td>-0.071155</td>\n",
       "      <td>1.000000</td>\n",
       "      <td>-0.097173</td>\n",
       "      <td>0.065099</td>\n",
       "      <td>0.080096</td>\n",
       "      <td>0.029436</td>\n",
       "      <td>0.096334</td>\n",
       "      <td>-0.014481</td>\n",
       "      <td>-0.040524</td>\n",
       "      <td>...</td>\n",
       "      <td>0.004720</td>\n",
       "      <td>-0.099812</td>\n",
       "      <td>-0.042254</td>\n",
       "      <td>-0.012326</td>\n",
       "      <td>-0.028268</td>\n",
       "      <td>0.000714</td>\n",
       "      <td>0.058061</td>\n",
       "      <td>-0.013326</td>\n",
       "      <td>-0.009082</td>\n",
       "      <td>-0.066102</td>\n",
       "    </tr>\n",
       "    <tr>\n",
       "      <th>self_employed</th>\n",
       "      <td>0.056759</td>\n",
       "      <td>0.044827</td>\n",
       "      <td>-0.097173</td>\n",
       "      <td>1.000000</td>\n",
       "      <td>0.004179</td>\n",
       "      <td>0.015456</td>\n",
       "      <td>0.025630</td>\n",
       "      <td>-0.307156</td>\n",
       "      <td>0.285267</td>\n",
       "      <td>0.065008</td>\n",
       "      <td>...</td>\n",
       "      <td>0.106136</td>\n",
       "      <td>0.172873</td>\n",
       "      <td>0.023307</td>\n",
       "      <td>-0.002612</td>\n",
       "      <td>0.039914</td>\n",
       "      <td>0.018789</td>\n",
       "      <td>-0.013353</td>\n",
       "      <td>-0.029446</td>\n",
       "      <td>0.128920</td>\n",
       "      <td>0.070546</td>\n",
       "    </tr>\n",
       "    <tr>\n",
       "      <th>family_history</th>\n",
       "      <td>0.011732</td>\n",
       "      <td>-0.122491</td>\n",
       "      <td>0.065099</td>\n",
       "      <td>0.004179</td>\n",
       "      <td>1.000000</td>\n",
       "      <td>0.376714</td>\n",
       "      <td>0.323058</td>\n",
       "      <td>-0.050623</td>\n",
       "      <td>0.011448</td>\n",
       "      <td>-0.047080</td>\n",
       "      <td>...</td>\n",
       "      <td>0.060902</td>\n",
       "      <td>0.019289</td>\n",
       "      <td>0.025304</td>\n",
       "      <td>-0.001948</td>\n",
       "      <td>-0.004154</td>\n",
       "      <td>0.001608</td>\n",
       "      <td>0.039583</td>\n",
       "      <td>0.036510</td>\n",
       "      <td>0.038376</td>\n",
       "      <td>0.120771</td>\n",
       "    </tr>\n",
       "    <tr>\n",
       "      <th>treatment</th>\n",
       "      <td>0.075760</td>\n",
       "      <td>-0.138354</td>\n",
       "      <td>0.080096</td>\n",
       "      <td>0.015456</td>\n",
       "      <td>0.376714</td>\n",
       "      <td>1.000000</td>\n",
       "      <td>0.615657</td>\n",
       "      <td>-0.047733</td>\n",
       "      <td>0.024593</td>\n",
       "      <td>-0.032295</td>\n",
       "      <td>...</td>\n",
       "      <td>0.140905</td>\n",
       "      <td>0.059034</td>\n",
       "      <td>0.027943</td>\n",
       "      <td>-0.012776</td>\n",
       "      <td>0.066022</td>\n",
       "      <td>-0.037944</td>\n",
       "      <td>0.094859</td>\n",
       "      <td>0.049234</td>\n",
       "      <td>0.060552</td>\n",
       "      <td>0.154008</td>\n",
       "    </tr>\n",
       "    <tr>\n",
       "      <th>work_interfere</th>\n",
       "      <td>0.042380</td>\n",
       "      <td>-0.080788</td>\n",
       "      <td>0.029436</td>\n",
       "      <td>0.025630</td>\n",
       "      <td>0.323058</td>\n",
       "      <td>0.615657</td>\n",
       "      <td>1.000000</td>\n",
       "      <td>-0.062329</td>\n",
       "      <td>0.035232</td>\n",
       "      <td>0.006033</td>\n",
       "      <td>...</td>\n",
       "      <td>0.064044</td>\n",
       "      <td>0.050966</td>\n",
       "      <td>0.061045</td>\n",
       "      <td>-0.019925</td>\n",
       "      <td>0.004556</td>\n",
       "      <td>-0.099787</td>\n",
       "      <td>0.100299</td>\n",
       "      <td>-0.016706</td>\n",
       "      <td>0.047686</td>\n",
       "      <td>0.135488</td>\n",
       "    </tr>\n",
       "    <tr>\n",
       "      <th>no_employees</th>\n",
       "      <td>0.032466</td>\n",
       "      <td>0.024641</td>\n",
       "      <td>0.096334</td>\n",
       "      <td>-0.307156</td>\n",
       "      <td>-0.050623</td>\n",
       "      <td>-0.047733</td>\n",
       "      <td>-0.062329</td>\n",
       "      <td>1.000000</td>\n",
       "      <td>-0.208888</td>\n",
       "      <td>-0.111023</td>\n",
       "      <td>...</td>\n",
       "      <td>-0.004915</td>\n",
       "      <td>-0.094118</td>\n",
       "      <td>-0.007596</td>\n",
       "      <td>-0.069364</td>\n",
       "      <td>-0.086420</td>\n",
       "      <td>-0.050076</td>\n",
       "      <td>0.019329</td>\n",
       "      <td>0.030541</td>\n",
       "      <td>-0.027426</td>\n",
       "      <td>-0.014758</td>\n",
       "    </tr>\n",
       "    <tr>\n",
       "      <th>remote_work</th>\n",
       "      <td>0.143436</td>\n",
       "      <td>-0.009406</td>\n",
       "      <td>-0.014481</td>\n",
       "      <td>0.285267</td>\n",
       "      <td>0.011448</td>\n",
       "      <td>0.024593</td>\n",
       "      <td>0.035232</td>\n",
       "      <td>-0.208888</td>\n",
       "      <td>1.000000</td>\n",
       "      <td>0.130228</td>\n",
       "      <td>...</td>\n",
       "      <td>-0.006332</td>\n",
       "      <td>0.095886</td>\n",
       "      <td>0.051372</td>\n",
       "      <td>-0.015531</td>\n",
       "      <td>0.078716</td>\n",
       "      <td>0.022677</td>\n",
       "      <td>-0.036445</td>\n",
       "      <td>-0.018747</td>\n",
       "      <td>0.033242</td>\n",
       "      <td>-0.045254</td>\n",
       "    </tr>\n",
       "    <tr>\n",
       "      <th>tech_company</th>\n",
       "      <td>-0.057116</td>\n",
       "      <td>0.053937</td>\n",
       "      <td>-0.040524</td>\n",
       "      <td>0.065008</td>\n",
       "      <td>-0.047080</td>\n",
       "      <td>-0.032295</td>\n",
       "      <td>0.006033</td>\n",
       "      <td>-0.111023</td>\n",
       "      <td>0.130228</td>\n",
       "      <td>1.000000</td>\n",
       "      <td>...</td>\n",
       "      <td>-0.052128</td>\n",
       "      <td>0.046195</td>\n",
       "      <td>0.000218</td>\n",
       "      <td>0.064646</td>\n",
       "      <td>0.074318</td>\n",
       "      <td>0.048796</td>\n",
       "      <td>-0.043344</td>\n",
       "      <td>-0.033602</td>\n",
       "      <td>0.028178</td>\n",
       "      <td>-0.064468</td>\n",
       "    </tr>\n",
       "    <tr>\n",
       "      <th>benefits</th>\n",
       "      <td>0.156796</td>\n",
       "      <td>-0.089735</td>\n",
       "      <td>0.102219</td>\n",
       "      <td>-0.048880</td>\n",
       "      <td>0.126531</td>\n",
       "      <td>0.224767</td>\n",
       "      <td>0.134592</td>\n",
       "      <td>0.118373</td>\n",
       "      <td>-0.064357</td>\n",
       "      <td>-0.046520</td>\n",
       "      <td>...</td>\n",
       "      <td>0.335376</td>\n",
       "      <td>0.063023</td>\n",
       "      <td>-0.012443</td>\n",
       "      <td>-0.032547</td>\n",
       "      <td>-0.009259</td>\n",
       "      <td>0.024286</td>\n",
       "      <td>0.033088</td>\n",
       "      <td>0.022426</td>\n",
       "      <td>0.137549</td>\n",
       "      <td>0.065678</td>\n",
       "    </tr>\n",
       "    <tr>\n",
       "      <th>care_options</th>\n",
       "      <td>0.106985</td>\n",
       "      <td>-0.077175</td>\n",
       "      <td>0.076554</td>\n",
       "      <td>0.042465</td>\n",
       "      <td>0.105618</td>\n",
       "      <td>0.235135</td>\n",
       "      <td>0.163782</td>\n",
       "      <td>-0.005576</td>\n",
       "      <td>0.007152</td>\n",
       "      <td>-0.027933</td>\n",
       "      <td>...</td>\n",
       "      <td>0.345950</td>\n",
       "      <td>0.142346</td>\n",
       "      <td>0.001467</td>\n",
       "      <td>0.034060</td>\n",
       "      <td>0.027132</td>\n",
       "      <td>0.080303</td>\n",
       "      <td>0.032996</td>\n",
       "      <td>0.018142</td>\n",
       "      <td>0.160006</td>\n",
       "      <td>0.069383</td>\n",
       "    </tr>\n",
       "    <tr>\n",
       "      <th>wellness_program</th>\n",
       "      <td>0.103941</td>\n",
       "      <td>-0.000160</td>\n",
       "      <td>0.024673</td>\n",
       "      <td>0.024499</td>\n",
       "      <td>0.061970</td>\n",
       "      <td>0.092346</td>\n",
       "      <td>0.094556</td>\n",
       "      <td>0.091207</td>\n",
       "      <td>-0.077654</td>\n",
       "      <td>-0.118479</td>\n",
       "      <td>...</td>\n",
       "      <td>0.229099</td>\n",
       "      <td>0.082100</td>\n",
       "      <td>0.052078</td>\n",
       "      <td>-0.015328</td>\n",
       "      <td>-0.010866</td>\n",
       "      <td>0.036548</td>\n",
       "      <td>0.046035</td>\n",
       "      <td>-0.015213</td>\n",
       "      <td>0.120274</td>\n",
       "      <td>0.095961</td>\n",
       "    </tr>\n",
       "    <tr>\n",
       "      <th>seek_help</th>\n",
       "      <td>0.130357</td>\n",
       "      <td>-0.003949</td>\n",
       "      <td>-0.005831</td>\n",
       "      <td>0.051847</td>\n",
       "      <td>0.042077</td>\n",
       "      <td>0.087700</td>\n",
       "      <td>0.092457</td>\n",
       "      <td>0.067292</td>\n",
       "      <td>-0.037221</td>\n",
       "      <td>-0.068282</td>\n",
       "      <td>...</td>\n",
       "      <td>0.321366</td>\n",
       "      <td>0.130541</td>\n",
       "      <td>0.043366</td>\n",
       "      <td>0.003375</td>\n",
       "      <td>0.055053</td>\n",
       "      <td>0.077833</td>\n",
       "      <td>0.029513</td>\n",
       "      <td>0.056322</td>\n",
       "      <td>0.171948</td>\n",
       "      <td>0.129697</td>\n",
       "    </tr>\n",
       "    <tr>\n",
       "      <th>anonymity</th>\n",
       "      <td>0.025353</td>\n",
       "      <td>-0.021121</td>\n",
       "      <td>0.004720</td>\n",
       "      <td>0.106136</td>\n",
       "      <td>0.060902</td>\n",
       "      <td>0.140905</td>\n",
       "      <td>0.064044</td>\n",
       "      <td>-0.004915</td>\n",
       "      <td>-0.006332</td>\n",
       "      <td>-0.052128</td>\n",
       "      <td>...</td>\n",
       "      <td>1.000000</td>\n",
       "      <td>0.284525</td>\n",
       "      <td>0.013327</td>\n",
       "      <td>0.054400</td>\n",
       "      <td>0.064991</td>\n",
       "      <td>0.147529</td>\n",
       "      <td>-0.009374</td>\n",
       "      <td>0.027126</td>\n",
       "      <td>0.291172</td>\n",
       "      <td>0.048803</td>\n",
       "    </tr>\n",
       "    <tr>\n",
       "      <th>leave</th>\n",
       "      <td>-0.014259</td>\n",
       "      <td>0.030428</td>\n",
       "      <td>-0.099812</td>\n",
       "      <td>0.172873</td>\n",
       "      <td>0.019289</td>\n",
       "      <td>0.059034</td>\n",
       "      <td>0.050966</td>\n",
       "      <td>-0.094118</td>\n",
       "      <td>0.095886</td>\n",
       "      <td>0.046195</td>\n",
       "      <td>...</td>\n",
       "      <td>0.284525</td>\n",
       "      <td>1.000000</td>\n",
       "      <td>0.082012</td>\n",
       "      <td>0.080633</td>\n",
       "      <td>0.180102</td>\n",
       "      <td>0.202734</td>\n",
       "      <td>-0.073212</td>\n",
       "      <td>0.018386</td>\n",
       "      <td>0.311647</td>\n",
       "      <td>0.012032</td>\n",
       "    </tr>\n",
       "    <tr>\n",
       "      <th>mental_health_consequence</th>\n",
       "      <td>0.027967</td>\n",
       "      <td>0.030217</td>\n",
       "      <td>-0.042254</td>\n",
       "      <td>0.023307</td>\n",
       "      <td>0.025304</td>\n",
       "      <td>0.027943</td>\n",
       "      <td>0.061045</td>\n",
       "      <td>-0.007596</td>\n",
       "      <td>0.051372</td>\n",
       "      <td>0.000218</td>\n",
       "      <td>...</td>\n",
       "      <td>0.013327</td>\n",
       "      <td>0.082012</td>\n",
       "      <td>1.000000</td>\n",
       "      <td>0.128716</td>\n",
       "      <td>-0.158341</td>\n",
       "      <td>-0.156109</td>\n",
       "      <td>0.052334</td>\n",
       "      <td>-0.015959</td>\n",
       "      <td>0.063535</td>\n",
       "      <td>0.126994</td>\n",
       "    </tr>\n",
       "    <tr>\n",
       "      <th>phys_health_consequence</th>\n",
       "      <td>-0.050933</td>\n",
       "      <td>0.022108</td>\n",
       "      <td>-0.012326</td>\n",
       "      <td>-0.002612</td>\n",
       "      <td>-0.001948</td>\n",
       "      <td>-0.012776</td>\n",
       "      <td>-0.019925</td>\n",
       "      <td>-0.069364</td>\n",
       "      <td>-0.015531</td>\n",
       "      <td>0.064646</td>\n",
       "      <td>...</td>\n",
       "      <td>0.054400</td>\n",
       "      <td>0.080633</td>\n",
       "      <td>0.128716</td>\n",
       "      <td>1.000000</td>\n",
       "      <td>0.086646</td>\n",
       "      <td>0.100305</td>\n",
       "      <td>-0.019639</td>\n",
       "      <td>0.068655</td>\n",
       "      <td>0.108255</td>\n",
       "      <td>-0.037369</td>\n",
       "    </tr>\n",
       "    <tr>\n",
       "      <th>coworkers</th>\n",
       "      <td>-0.009894</td>\n",
       "      <td>0.042532</td>\n",
       "      <td>-0.028268</td>\n",
       "      <td>0.039914</td>\n",
       "      <td>-0.004154</td>\n",
       "      <td>0.066022</td>\n",
       "      <td>0.004556</td>\n",
       "      <td>-0.086420</td>\n",
       "      <td>0.078716</td>\n",
       "      <td>0.074318</td>\n",
       "      <td>...</td>\n",
       "      <td>0.064991</td>\n",
       "      <td>0.180102</td>\n",
       "      <td>-0.158341</td>\n",
       "      <td>0.086646</td>\n",
       "      <td>1.000000</td>\n",
       "      <td>0.573265</td>\n",
       "      <td>-0.153648</td>\n",
       "      <td>0.064921</td>\n",
       "      <td>0.185129</td>\n",
       "      <td>-0.046162</td>\n",
       "    </tr>\n",
       "    <tr>\n",
       "      <th>supervisor</th>\n",
       "      <td>0.006917</td>\n",
       "      <td>0.059698</td>\n",
       "      <td>0.000714</td>\n",
       "      <td>0.018789</td>\n",
       "      <td>0.001608</td>\n",
       "      <td>-0.037944</td>\n",
       "      <td>-0.099787</td>\n",
       "      <td>-0.050076</td>\n",
       "      <td>0.022677</td>\n",
       "      <td>0.048796</td>\n",
       "      <td>...</td>\n",
       "      <td>0.147529</td>\n",
       "      <td>0.202734</td>\n",
       "      <td>-0.156109</td>\n",
       "      <td>0.100305</td>\n",
       "      <td>0.573265</td>\n",
       "      <td>1.000000</td>\n",
       "      <td>-0.195309</td>\n",
       "      <td>0.080094</td>\n",
       "      <td>0.223518</td>\n",
       "      <td>-0.095148</td>\n",
       "    </tr>\n",
       "    <tr>\n",
       "      <th>mental_health_interview</th>\n",
       "      <td>0.062044</td>\n",
       "      <td>-0.040418</td>\n",
       "      <td>0.058061</td>\n",
       "      <td>-0.013353</td>\n",
       "      <td>0.039583</td>\n",
       "      <td>0.094859</td>\n",
       "      <td>0.100299</td>\n",
       "      <td>0.019329</td>\n",
       "      <td>-0.036445</td>\n",
       "      <td>-0.043344</td>\n",
       "      <td>...</td>\n",
       "      <td>-0.009374</td>\n",
       "      <td>-0.073212</td>\n",
       "      <td>0.052334</td>\n",
       "      <td>-0.019639</td>\n",
       "      <td>-0.153648</td>\n",
       "      <td>-0.195309</td>\n",
       "      <td>1.000000</td>\n",
       "      <td>0.197216</td>\n",
       "      <td>-0.107398</td>\n",
       "      <td>0.079157</td>\n",
       "    </tr>\n",
       "    <tr>\n",
       "      <th>phys_health_interview</th>\n",
       "      <td>-0.021660</td>\n",
       "      <td>-0.016751</td>\n",
       "      <td>-0.013326</td>\n",
       "      <td>-0.029446</td>\n",
       "      <td>0.036510</td>\n",
       "      <td>0.049234</td>\n",
       "      <td>-0.016706</td>\n",
       "      <td>0.030541</td>\n",
       "      <td>-0.018747</td>\n",
       "      <td>-0.033602</td>\n",
       "      <td>...</td>\n",
       "      <td>0.027126</td>\n",
       "      <td>0.018386</td>\n",
       "      <td>-0.015959</td>\n",
       "      <td>0.068655</td>\n",
       "      <td>0.064921</td>\n",
       "      <td>0.080094</td>\n",
       "      <td>0.197216</td>\n",
       "      <td>1.000000</td>\n",
       "      <td>0.013558</td>\n",
       "      <td>0.005290</td>\n",
       "    </tr>\n",
       "    <tr>\n",
       "      <th>mental_vs_physical</th>\n",
       "      <td>-0.016287</td>\n",
       "      <td>-0.006311</td>\n",
       "      <td>-0.009082</td>\n",
       "      <td>0.128920</td>\n",
       "      <td>0.038376</td>\n",
       "      <td>0.060552</td>\n",
       "      <td>0.047686</td>\n",
       "      <td>-0.027426</td>\n",
       "      <td>0.033242</td>\n",
       "      <td>0.028178</td>\n",
       "      <td>...</td>\n",
       "      <td>0.291172</td>\n",
       "      <td>0.311647</td>\n",
       "      <td>0.063535</td>\n",
       "      <td>0.108255</td>\n",
       "      <td>0.185129</td>\n",
       "      <td>0.223518</td>\n",
       "      <td>-0.107398</td>\n",
       "      <td>0.013558</td>\n",
       "      <td>1.000000</td>\n",
       "      <td>0.019058</td>\n",
       "    </tr>\n",
       "    <tr>\n",
       "      <th>obs_consequence</th>\n",
       "      <td>0.069749</td>\n",
       "      <td>-0.034115</td>\n",
       "      <td>-0.066102</td>\n",
       "      <td>0.070546</td>\n",
       "      <td>0.120771</td>\n",
       "      <td>0.154008</td>\n",
       "      <td>0.135488</td>\n",
       "      <td>-0.014758</td>\n",
       "      <td>-0.045254</td>\n",
       "      <td>-0.064468</td>\n",
       "      <td>...</td>\n",
       "      <td>0.048803</td>\n",
       "      <td>0.012032</td>\n",
       "      <td>0.126994</td>\n",
       "      <td>-0.037369</td>\n",
       "      <td>-0.046162</td>\n",
       "      <td>-0.095148</td>\n",
       "      <td>0.079157</td>\n",
       "      <td>0.005290</td>\n",
       "      <td>0.019058</td>\n",
       "      <td>1.000000</td>\n",
       "    </tr>\n",
       "  </tbody>\n",
       "</table>\n",
       "<p>24 rows × 24 columns</p>\n",
       "</div>"
      ],
      "text/plain": [
       "                                Age    Gender   Country  self_employed  \\\n",
       "Age                        1.000000  0.055569  0.151630       0.056759   \n",
       "Gender                     0.055569  1.000000 -0.071155       0.044827   \n",
       "Country                    0.151630 -0.071155  1.000000      -0.097173   \n",
       "self_employed              0.056759  0.044827 -0.097173       1.000000   \n",
       "family_history             0.011732 -0.122491  0.065099       0.004179   \n",
       "treatment                  0.075760 -0.138354  0.080096       0.015456   \n",
       "work_interfere             0.042380 -0.080788  0.029436       0.025630   \n",
       "no_employees               0.032466  0.024641  0.096334      -0.307156   \n",
       "remote_work                0.143436 -0.009406 -0.014481       0.285267   \n",
       "tech_company              -0.057116  0.053937 -0.040524       0.065008   \n",
       "benefits                   0.156796 -0.089735  0.102219      -0.048880   \n",
       "care_options               0.106985 -0.077175  0.076554       0.042465   \n",
       "wellness_program           0.103941 -0.000160  0.024673       0.024499   \n",
       "seek_help                  0.130357 -0.003949 -0.005831       0.051847   \n",
       "anonymity                  0.025353 -0.021121  0.004720       0.106136   \n",
       "leave                     -0.014259  0.030428 -0.099812       0.172873   \n",
       "mental_health_consequence  0.027967  0.030217 -0.042254       0.023307   \n",
       "phys_health_consequence   -0.050933  0.022108 -0.012326      -0.002612   \n",
       "coworkers                 -0.009894  0.042532 -0.028268       0.039914   \n",
       "supervisor                 0.006917  0.059698  0.000714       0.018789   \n",
       "mental_health_interview    0.062044 -0.040418  0.058061      -0.013353   \n",
       "phys_health_interview     -0.021660 -0.016751 -0.013326      -0.029446   \n",
       "mental_vs_physical        -0.016287 -0.006311 -0.009082       0.128920   \n",
       "obs_consequence            0.069749 -0.034115 -0.066102       0.070546   \n",
       "\n",
       "                           family_history  treatment  work_interfere  \\\n",
       "Age                              0.011732   0.075760        0.042380   \n",
       "Gender                          -0.122491  -0.138354       -0.080788   \n",
       "Country                          0.065099   0.080096        0.029436   \n",
       "self_employed                    0.004179   0.015456        0.025630   \n",
       "family_history                   1.000000   0.376714        0.323058   \n",
       "treatment                        0.376714   1.000000        0.615657   \n",
       "work_interfere                   0.323058   0.615657        1.000000   \n",
       "no_employees                    -0.050623  -0.047733       -0.062329   \n",
       "remote_work                      0.011448   0.024593        0.035232   \n",
       "tech_company                    -0.047080  -0.032295        0.006033   \n",
       "benefits                         0.126531   0.224767        0.134592   \n",
       "care_options                     0.105618   0.235135        0.163782   \n",
       "wellness_program                 0.061970   0.092346        0.094556   \n",
       "seek_help                        0.042077   0.087700        0.092457   \n",
       "anonymity                        0.060902   0.140905        0.064044   \n",
       "leave                            0.019289   0.059034        0.050966   \n",
       "mental_health_consequence        0.025304   0.027943        0.061045   \n",
       "phys_health_consequence         -0.001948  -0.012776       -0.019925   \n",
       "coworkers                       -0.004154   0.066022        0.004556   \n",
       "supervisor                       0.001608  -0.037944       -0.099787   \n",
       "mental_health_interview          0.039583   0.094859        0.100299   \n",
       "phys_health_interview            0.036510   0.049234       -0.016706   \n",
       "mental_vs_physical               0.038376   0.060552        0.047686   \n",
       "obs_consequence                  0.120771   0.154008        0.135488   \n",
       "\n",
       "                           no_employees  remote_work  tech_company  \\\n",
       "Age                            0.032466     0.143436     -0.057116   \n",
       "Gender                         0.024641    -0.009406      0.053937   \n",
       "Country                        0.096334    -0.014481     -0.040524   \n",
       "self_employed                 -0.307156     0.285267      0.065008   \n",
       "family_history                -0.050623     0.011448     -0.047080   \n",
       "treatment                     -0.047733     0.024593     -0.032295   \n",
       "work_interfere                -0.062329     0.035232      0.006033   \n",
       "no_employees                   1.000000    -0.208888     -0.111023   \n",
       "remote_work                   -0.208888     1.000000      0.130228   \n",
       "tech_company                  -0.111023     0.130228      1.000000   \n",
       "benefits                       0.118373    -0.064357     -0.046520   \n",
       "care_options                  -0.005576     0.007152     -0.027933   \n",
       "wellness_program               0.091207    -0.077654     -0.118479   \n",
       "seek_help                      0.067292    -0.037221     -0.068282   \n",
       "anonymity                     -0.004915    -0.006332     -0.052128   \n",
       "leave                         -0.094118     0.095886      0.046195   \n",
       "mental_health_consequence     -0.007596     0.051372      0.000218   \n",
       "phys_health_consequence       -0.069364    -0.015531      0.064646   \n",
       "coworkers                     -0.086420     0.078716      0.074318   \n",
       "supervisor                    -0.050076     0.022677      0.048796   \n",
       "mental_health_interview        0.019329    -0.036445     -0.043344   \n",
       "phys_health_interview          0.030541    -0.018747     -0.033602   \n",
       "mental_vs_physical            -0.027426     0.033242      0.028178   \n",
       "obs_consequence               -0.014758    -0.045254     -0.064468   \n",
       "\n",
       "                                ...         anonymity     leave  \\\n",
       "Age                             ...          0.025353 -0.014259   \n",
       "Gender                          ...         -0.021121  0.030428   \n",
       "Country                         ...          0.004720 -0.099812   \n",
       "self_employed                   ...          0.106136  0.172873   \n",
       "family_history                  ...          0.060902  0.019289   \n",
       "treatment                       ...          0.140905  0.059034   \n",
       "work_interfere                  ...          0.064044  0.050966   \n",
       "no_employees                    ...         -0.004915 -0.094118   \n",
       "remote_work                     ...         -0.006332  0.095886   \n",
       "tech_company                    ...         -0.052128  0.046195   \n",
       "benefits                        ...          0.335376  0.063023   \n",
       "care_options                    ...          0.345950  0.142346   \n",
       "wellness_program                ...          0.229099  0.082100   \n",
       "seek_help                       ...          0.321366  0.130541   \n",
       "anonymity                       ...          1.000000  0.284525   \n",
       "leave                           ...          0.284525  1.000000   \n",
       "mental_health_consequence       ...          0.013327  0.082012   \n",
       "phys_health_consequence         ...          0.054400  0.080633   \n",
       "coworkers                       ...          0.064991  0.180102   \n",
       "supervisor                      ...          0.147529  0.202734   \n",
       "mental_health_interview         ...         -0.009374 -0.073212   \n",
       "phys_health_interview           ...          0.027126  0.018386   \n",
       "mental_vs_physical              ...          0.291172  0.311647   \n",
       "obs_consequence                 ...          0.048803  0.012032   \n",
       "\n",
       "                           mental_health_consequence  phys_health_consequence  \\\n",
       "Age                                         0.027967                -0.050933   \n",
       "Gender                                      0.030217                 0.022108   \n",
       "Country                                    -0.042254                -0.012326   \n",
       "self_employed                               0.023307                -0.002612   \n",
       "family_history                              0.025304                -0.001948   \n",
       "treatment                                   0.027943                -0.012776   \n",
       "work_interfere                              0.061045                -0.019925   \n",
       "no_employees                               -0.007596                -0.069364   \n",
       "remote_work                                 0.051372                -0.015531   \n",
       "tech_company                                0.000218                 0.064646   \n",
       "benefits                                   -0.012443                -0.032547   \n",
       "care_options                                0.001467                 0.034060   \n",
       "wellness_program                            0.052078                -0.015328   \n",
       "seek_help                                   0.043366                 0.003375   \n",
       "anonymity                                   0.013327                 0.054400   \n",
       "leave                                       0.082012                 0.080633   \n",
       "mental_health_consequence                   1.000000                 0.128716   \n",
       "phys_health_consequence                     0.128716                 1.000000   \n",
       "coworkers                                  -0.158341                 0.086646   \n",
       "supervisor                                 -0.156109                 0.100305   \n",
       "mental_health_interview                     0.052334                -0.019639   \n",
       "phys_health_interview                      -0.015959                 0.068655   \n",
       "mental_vs_physical                          0.063535                 0.108255   \n",
       "obs_consequence                             0.126994                -0.037369   \n",
       "\n",
       "                           coworkers  supervisor  mental_health_interview  \\\n",
       "Age                        -0.009894    0.006917                 0.062044   \n",
       "Gender                      0.042532    0.059698                -0.040418   \n",
       "Country                    -0.028268    0.000714                 0.058061   \n",
       "self_employed               0.039914    0.018789                -0.013353   \n",
       "family_history             -0.004154    0.001608                 0.039583   \n",
       "treatment                   0.066022   -0.037944                 0.094859   \n",
       "work_interfere              0.004556   -0.099787                 0.100299   \n",
       "no_employees               -0.086420   -0.050076                 0.019329   \n",
       "remote_work                 0.078716    0.022677                -0.036445   \n",
       "tech_company                0.074318    0.048796                -0.043344   \n",
       "benefits                   -0.009259    0.024286                 0.033088   \n",
       "care_options                0.027132    0.080303                 0.032996   \n",
       "wellness_program           -0.010866    0.036548                 0.046035   \n",
       "seek_help                   0.055053    0.077833                 0.029513   \n",
       "anonymity                   0.064991    0.147529                -0.009374   \n",
       "leave                       0.180102    0.202734                -0.073212   \n",
       "mental_health_consequence  -0.158341   -0.156109                 0.052334   \n",
       "phys_health_consequence     0.086646    0.100305                -0.019639   \n",
       "coworkers                   1.000000    0.573265                -0.153648   \n",
       "supervisor                  0.573265    1.000000                -0.195309   \n",
       "mental_health_interview    -0.153648   -0.195309                 1.000000   \n",
       "phys_health_interview       0.064921    0.080094                 0.197216   \n",
       "mental_vs_physical          0.185129    0.223518                -0.107398   \n",
       "obs_consequence            -0.046162   -0.095148                 0.079157   \n",
       "\n",
       "                           phys_health_interview  mental_vs_physical  \\\n",
       "Age                                    -0.021660           -0.016287   \n",
       "Gender                                 -0.016751           -0.006311   \n",
       "Country                                -0.013326           -0.009082   \n",
       "self_employed                          -0.029446            0.128920   \n",
       "family_history                          0.036510            0.038376   \n",
       "treatment                               0.049234            0.060552   \n",
       "work_interfere                         -0.016706            0.047686   \n",
       "no_employees                            0.030541           -0.027426   \n",
       "remote_work                            -0.018747            0.033242   \n",
       "tech_company                           -0.033602            0.028178   \n",
       "benefits                                0.022426            0.137549   \n",
       "care_options                            0.018142            0.160006   \n",
       "wellness_program                       -0.015213            0.120274   \n",
       "seek_help                               0.056322            0.171948   \n",
       "anonymity                               0.027126            0.291172   \n",
       "leave                                   0.018386            0.311647   \n",
       "mental_health_consequence              -0.015959            0.063535   \n",
       "phys_health_consequence                 0.068655            0.108255   \n",
       "coworkers                               0.064921            0.185129   \n",
       "supervisor                              0.080094            0.223518   \n",
       "mental_health_interview                 0.197216           -0.107398   \n",
       "phys_health_interview                   1.000000            0.013558   \n",
       "mental_vs_physical                      0.013558            1.000000   \n",
       "obs_consequence                         0.005290            0.019058   \n",
       "\n",
       "                           obs_consequence  \n",
       "Age                               0.069749  \n",
       "Gender                           -0.034115  \n",
       "Country                          -0.066102  \n",
       "self_employed                     0.070546  \n",
       "family_history                    0.120771  \n",
       "treatment                         0.154008  \n",
       "work_interfere                    0.135488  \n",
       "no_employees                     -0.014758  \n",
       "remote_work                      -0.045254  \n",
       "tech_company                     -0.064468  \n",
       "benefits                          0.065678  \n",
       "care_options                      0.069383  \n",
       "wellness_program                  0.095961  \n",
       "seek_help                         0.129697  \n",
       "anonymity                         0.048803  \n",
       "leave                             0.012032  \n",
       "mental_health_consequence         0.126994  \n",
       "phys_health_consequence          -0.037369  \n",
       "coworkers                        -0.046162  \n",
       "supervisor                       -0.095148  \n",
       "mental_health_interview           0.079157  \n",
       "phys_health_interview             0.005290  \n",
       "mental_vs_physical                0.019058  \n",
       "obs_consequence                   1.000000  \n",
       "\n",
       "[24 rows x 24 columns]"
      ]
     },
     "execution_count": 1279,
     "metadata": {},
     "output_type": "execute_result"
    }
   ],
   "source": [
    "data_trans.corr()"
   ]
  },
  {
   "cell_type": "code",
   "execution_count": 1280,
   "metadata": {
    "scrolled": true
   },
   "outputs": [
    {
     "data": {
      "text/html": [
       "<script>requirejs.config({paths: { 'plotly': ['https://cdn.plot.ly/plotly-latest.min']},});if(!window.Plotly) {{require(['plotly'],function(plotly) {window.Plotly=plotly;});}}</script>"
      ],
      "text/vnd.plotly.v1+html": [
       "<script>requirejs.config({paths: { 'plotly': ['https://cdn.plot.ly/plotly-latest.min']},});if(!window.Plotly) {{require(['plotly'],function(plotly) {window.Plotly=plotly;});}}</script>"
      ]
     },
     "metadata": {},
     "output_type": "display_data"
    },
    {
     "data": {
      "text/html": [
       "<iframe id=\"igraph\" scrolling=\"no\" style=\"border:none;\" seamless=\"seamless\" src=\"https://plot.ly/~ruyyy1121/10.embed\" height=\"525px\" width=\"100%\"></iframe>"
      ],
      "text/plain": [
       "<plotly.tools.PlotlyDisplay object>"
      ]
     },
     "execution_count": 1280,
     "metadata": {},
     "output_type": "execute_result"
    }
   ],
   "source": [
    "import plotly as plt\n",
    "import plotly.plotly as py\n",
    "import plotly.graph_objs as go\n",
    "py.sign_in(\"ruyyy1121\",\"ybEE6RGKuzUxYMFZ6yvi\")\n",
    "plt.offline.init_notebook_mode(connected=True)\n",
    "dataC = [go.Heatmap( z=data_trans.corr().values.tolist(),\n",
    "                  x=['Age', 'Gender', 'Country', 'self_employed', 'family_history',\n",
    "       'treatment', 'work_interfere', 'no_employees', 'remote_work',\n",
    "       'tech_company', 'benefits', 'care_options', 'wellness_program',\n",
    "       'seek_help', 'anonymity', 'leave', 'mental_health_consequence',\n",
    "       'phys_health_consequence', 'coworkers', 'supervisor',\n",
    "       'mental_health_interview', 'phys_health_interview',\n",
    "       'mental_vs_physical', 'obs_consequence'],\n",
    "                   y=['Age', 'Gender', 'Country', 'self_employed', 'family_history',\n",
    "       'treatment', 'work_interfere', 'no_employees', 'remote_work',\n",
    "       'tech_company', 'benefits', 'care_options', 'wellness_program',\n",
    "       'seek_help', 'anonymity', 'leave', 'mental_health_consequence',\n",
    "       'phys_health_consequence', 'coworkers', 'supervisor',\n",
    "       'mental_health_interview', 'phys_health_interview',\n",
    "       'mental_vs_physical', 'obs_consequence'])]\n",
    "\n",
    "py.iplot(dataC, filename='labelled-heatmap')"
   ]
  },
  {
   "cell_type": "markdown",
   "metadata": {},
   "source": [
    "#### from this correlation chart, work interfere (If you have a mental health condition, do you feel that it interferes with your work?)  has the largest correlation with the target variable treatment. \n",
    "#### Next is family_history(Do you have a family history of mental illness?)"
   ]
  },
  {
   "cell_type": "code",
   "execution_count": 1281,
   "metadata": {},
   "outputs": [
    {
     "data": {
      "text/plain": [
       "Index(['Age', 'Gender', 'Country', 'self_employed', 'family_history',\n",
       "       'treatment', 'work_interfere', 'no_employees', 'remote_work',\n",
       "       'tech_company', 'benefits', 'care_options', 'wellness_program',\n",
       "       'seek_help', 'anonymity', 'leave', 'mental_health_consequence',\n",
       "       'phys_health_consequence', 'coworkers', 'supervisor',\n",
       "       'mental_health_interview', 'phys_health_interview',\n",
       "       'mental_vs_physical', 'obs_consequence'],\n",
       "      dtype='object')"
      ]
     },
     "execution_count": 1281,
     "metadata": {},
     "output_type": "execute_result"
    }
   ],
   "source": [
    "data.columns"
   ]
  },
  {
   "cell_type": "code",
   "execution_count": 1282,
   "metadata": {
    "collapsed": true
   },
   "outputs": [],
   "source": [
    "y=data_trans[\"treatment\"]"
   ]
  },
  {
   "cell_type": "code",
   "execution_count": 1283,
   "metadata": {
    "collapsed": true
   },
   "outputs": [],
   "source": [
    "features=['Age', 'Gender', 'Country', 'self_employed',\n",
    "       'family_history', 'work_interfere', 'no_employees',\n",
    "       'remote_work', 'tech_company', 'benefits', 'care_options',\n",
    "       'wellness_program', 'seek_help', 'anonymity', 'leave',\n",
    "       'mental_health_consequence', 'phys_health_consequence', 'coworkers',\n",
    "       'supervisor', 'mental_health_interview', 'phys_health_interview',\n",
    "       'mental_vs_physical', 'obs_consequence']"
   ]
  },
  {
   "cell_type": "code",
   "execution_count": 1284,
   "metadata": {
    "collapsed": true
   },
   "outputs": [],
   "source": [
    "X=data_trans.loc[:, features]"
   ]
  },
  {
   "cell_type": "code",
   "execution_count": 1285,
   "metadata": {},
   "outputs": [
    {
     "data": {
      "text/plain": [
       "<matplotlib.text.Text at 0x1a132d4ac8>"
      ]
     },
     "execution_count": 1285,
     "metadata": {},
     "output_type": "execute_result"
    },
    {
     "data": {
      "image/png": "[encoded data removed]",
      "text/plain": [
       "<matplotlib.figure.Figure at 0x1a132e5828>"
      ]
     },
     "metadata": {},
     "output_type": "display_data"
    }
   ],
   "source": [
    "import matplotlib.pyplot as pltt\n",
    "X.Gender.hist()\n",
    "pltt.title('Histogram of Gender')\n",
    "pltt.xlabel('Gender')\n",
    "pltt.ylabel('Number')"
   ]
  },
  {
   "cell_type": "code",
   "execution_count": 1286,
   "metadata": {
    "collapsed": true
   },
   "outputs": [],
   "source": [
    "from sklearn import preprocessing\n",
    "le = preprocessing.LabelEncoder()\n",
    "le_g=le.fit(data2[\"Gender\"])"
   ]
  },
  {
   "cell_type": "code",
   "execution_count": 1287,
   "metadata": {},
   "outputs": [
    {
     "data": {
      "text/plain": [
       "array(['female', 'male', 'non_binary', 'trans'], dtype=object)"
      ]
     },
     "execution_count": 1287,
     "metadata": {},
     "output_type": "execute_result"
    }
   ],
   "source": [
    "le_g.inverse_transform([0,1,2,3,])"
   ]
  },
  {
   "cell_type": "markdown",
   "metadata": {},
   "source": [
    "###### Most of the people attended the survey are male"
   ]
  },
  {
   "cell_type": "markdown",
   "metadata": {},
   "source": [
    "### Feature scaling: Scaleing age column and gender column becuase they are too different from other label. To scale them so that we can compare thier relative importance."
   ]
  },
  {
   "cell_type": "code",
   "execution_count": 1288,
   "metadata": {},
   "outputs": [
    {
     "data": {
      "text/html": [
       "<div>\n",
       "<style>\n",
       "    .dataframe thead tr:only-child th {\n",
       "        text-align: right;\n",
       "    }\n",
       "\n",
       "    .dataframe thead th {\n",
       "        text-align: left;\n",
       "    }\n",
       "\n",
       "    .dataframe tbody tr th {\n",
       "        vertical-align: top;\n",
       "    }\n",
       "</style>\n",
       "<table border=\"1\" class=\"dataframe\">\n",
       "  <thead>\n",
       "    <tr style=\"text-align: right;\">\n",
       "      <th></th>\n",
       "      <th>Age</th>\n",
       "      <th>Gender</th>\n",
       "      <th>Country</th>\n",
       "      <th>self_employed</th>\n",
       "      <th>family_history</th>\n",
       "      <th>work_interfere</th>\n",
       "      <th>no_employees</th>\n",
       "      <th>remote_work</th>\n",
       "      <th>tech_company</th>\n",
       "      <th>benefits</th>\n",
       "      <th>...</th>\n",
       "      <th>anonymity</th>\n",
       "      <th>leave</th>\n",
       "      <th>mental_health_consequence</th>\n",
       "      <th>phys_health_consequence</th>\n",
       "      <th>coworkers</th>\n",
       "      <th>supervisor</th>\n",
       "      <th>mental_health_interview</th>\n",
       "      <th>phys_health_interview</th>\n",
       "      <th>mental_vs_physical</th>\n",
       "      <th>obs_consequence</th>\n",
       "    </tr>\n",
       "  </thead>\n",
       "  <tbody>\n",
       "    <tr>\n",
       "      <th>0</th>\n",
       "      <td>0.456522</td>\n",
       "      <td>0</td>\n",
       "      <td>44</td>\n",
       "      <td>0</td>\n",
       "      <td>0</td>\n",
       "      <td>2</td>\n",
       "      <td>4</td>\n",
       "      <td>0</td>\n",
       "      <td>1</td>\n",
       "      <td>2</td>\n",
       "      <td>...</td>\n",
       "      <td>2</td>\n",
       "      <td>2</td>\n",
       "      <td>1</td>\n",
       "      <td>1</td>\n",
       "      <td>1</td>\n",
       "      <td>2</td>\n",
       "      <td>1</td>\n",
       "      <td>0</td>\n",
       "      <td>2</td>\n",
       "      <td>0</td>\n",
       "    </tr>\n",
       "    <tr>\n",
       "      <th>1</th>\n",
       "      <td>0.608696</td>\n",
       "      <td>1</td>\n",
       "      <td>44</td>\n",
       "      <td>0</td>\n",
       "      <td>0</td>\n",
       "      <td>3</td>\n",
       "      <td>5</td>\n",
       "      <td>0</td>\n",
       "      <td>0</td>\n",
       "      <td>0</td>\n",
       "      <td>...</td>\n",
       "      <td>0</td>\n",
       "      <td>0</td>\n",
       "      <td>0</td>\n",
       "      <td>1</td>\n",
       "      <td>0</td>\n",
       "      <td>0</td>\n",
       "      <td>1</td>\n",
       "      <td>1</td>\n",
       "      <td>0</td>\n",
       "      <td>0</td>\n",
       "    </tr>\n",
       "    <tr>\n",
       "      <th>2</th>\n",
       "      <td>0.347826</td>\n",
       "      <td>1</td>\n",
       "      <td>6</td>\n",
       "      <td>0</td>\n",
       "      <td>0</td>\n",
       "      <td>3</td>\n",
       "      <td>4</td>\n",
       "      <td>0</td>\n",
       "      <td>1</td>\n",
       "      <td>1</td>\n",
       "      <td>...</td>\n",
       "      <td>0</td>\n",
       "      <td>1</td>\n",
       "      <td>1</td>\n",
       "      <td>1</td>\n",
       "      <td>2</td>\n",
       "      <td>2</td>\n",
       "      <td>2</td>\n",
       "      <td>2</td>\n",
       "      <td>1</td>\n",
       "      <td>0</td>\n",
       "    </tr>\n",
       "    <tr>\n",
       "      <th>3</th>\n",
       "      <td>0.326087</td>\n",
       "      <td>1</td>\n",
       "      <td>43</td>\n",
       "      <td>0</td>\n",
       "      <td>1</td>\n",
       "      <td>2</td>\n",
       "      <td>2</td>\n",
       "      <td>0</td>\n",
       "      <td>1</td>\n",
       "      <td>1</td>\n",
       "      <td>...</td>\n",
       "      <td>1</td>\n",
       "      <td>1</td>\n",
       "      <td>2</td>\n",
       "      <td>2</td>\n",
       "      <td>1</td>\n",
       "      <td>0</td>\n",
       "      <td>0</td>\n",
       "      <td>0</td>\n",
       "      <td>1</td>\n",
       "      <td>1</td>\n",
       "    </tr>\n",
       "    <tr>\n",
       "      <th>4</th>\n",
       "      <td>0.326087</td>\n",
       "      <td>1</td>\n",
       "      <td>44</td>\n",
       "      <td>0</td>\n",
       "      <td>0</td>\n",
       "      <td>1</td>\n",
       "      <td>1</td>\n",
       "      <td>1</td>\n",
       "      <td>1</td>\n",
       "      <td>2</td>\n",
       "      <td>...</td>\n",
       "      <td>0</td>\n",
       "      <td>0</td>\n",
       "      <td>1</td>\n",
       "      <td>1</td>\n",
       "      <td>1</td>\n",
       "      <td>2</td>\n",
       "      <td>2</td>\n",
       "      <td>2</td>\n",
       "      <td>0</td>\n",
       "      <td>0</td>\n",
       "    </tr>\n",
       "  </tbody>\n",
       "</table>\n",
       "<p>5 rows × 23 columns</p>\n",
       "</div>"
      ],
      "text/plain": [
       "        Age  Gender  Country  self_employed  family_history  work_interfere  \\\n",
       "0  0.456522       0       44              0               0               2   \n",
       "1  0.608696       1       44              0               0               3   \n",
       "2  0.347826       1        6              0               0               3   \n",
       "3  0.326087       1       43              0               1               2   \n",
       "4  0.326087       1       44              0               0               1   \n",
       "\n",
       "   no_employees  remote_work  tech_company  benefits       ...         \\\n",
       "0             4            0             1         2       ...          \n",
       "1             5            0             0         0       ...          \n",
       "2             4            0             1         1       ...          \n",
       "3             2            0             1         1       ...          \n",
       "4             1            1             1         2       ...          \n",
       "\n",
       "   anonymity  leave  mental_health_consequence  phys_health_consequence  \\\n",
       "0          2      2                          1                        1   \n",
       "1          0      0                          0                        1   \n",
       "2          0      1                          1                        1   \n",
       "3          1      1                          2                        2   \n",
       "4          0      0                          1                        1   \n",
       "\n",
       "   coworkers  supervisor  mental_health_interview  phys_health_interview  \\\n",
       "0          1           2                        1                      0   \n",
       "1          0           0                        1                      1   \n",
       "2          2           2                        2                      2   \n",
       "3          1           0                        0                      0   \n",
       "4          1           2                        2                      2   \n",
       "\n",
       "   mental_vs_physical  obs_consequence  \n",
       "0                   2                0  \n",
       "1                   0                0  \n",
       "2                   1                0  \n",
       "3                   1                1  \n",
       "4                   0                0  \n",
       "\n",
       "[5 rows x 23 columns]"
      ]
     },
     "execution_count": 1288,
     "metadata": {},
     "output_type": "execute_result"
    }
   ],
   "source": [
    "min_max_scaler = preprocessing.MinMaxScaler()\n",
    "X[\"Age\"] = min_max_scaler.fit_transform(X[[\"Age\"]])\n",
    "X.head(5)"
   ]
  },
  {
   "cell_type": "code",
   "execution_count": 1289,
   "metadata": {},
   "outputs": [
    {
     "data": {
      "text/html": [
       "<div>\n",
       "<style>\n",
       "    .dataframe thead tr:only-child th {\n",
       "        text-align: right;\n",
       "    }\n",
       "\n",
       "    .dataframe thead th {\n",
       "        text-align: left;\n",
       "    }\n",
       "\n",
       "    .dataframe tbody tr th {\n",
       "        vertical-align: top;\n",
       "    }\n",
       "</style>\n",
       "<table border=\"1\" class=\"dataframe\">\n",
       "  <thead>\n",
       "    <tr style=\"text-align: right;\">\n",
       "      <th></th>\n",
       "      <th>Age</th>\n",
       "      <th>Gender</th>\n",
       "      <th>Country</th>\n",
       "      <th>self_employed</th>\n",
       "      <th>family_history</th>\n",
       "      <th>work_interfere</th>\n",
       "      <th>no_employees</th>\n",
       "      <th>remote_work</th>\n",
       "      <th>tech_company</th>\n",
       "      <th>benefits</th>\n",
       "      <th>...</th>\n",
       "      <th>anonymity</th>\n",
       "      <th>leave</th>\n",
       "      <th>mental_health_consequence</th>\n",
       "      <th>phys_health_consequence</th>\n",
       "      <th>coworkers</th>\n",
       "      <th>supervisor</th>\n",
       "      <th>mental_health_interview</th>\n",
       "      <th>phys_health_interview</th>\n",
       "      <th>mental_vs_physical</th>\n",
       "      <th>obs_consequence</th>\n",
       "    </tr>\n",
       "  </thead>\n",
       "  <tbody>\n",
       "    <tr>\n",
       "      <th>0</th>\n",
       "      <td>0.456522</td>\n",
       "      <td>0</td>\n",
       "      <td>0.956522</td>\n",
       "      <td>0</td>\n",
       "      <td>0</td>\n",
       "      <td>2</td>\n",
       "      <td>4</td>\n",
       "      <td>0</td>\n",
       "      <td>1</td>\n",
       "      <td>2</td>\n",
       "      <td>...</td>\n",
       "      <td>2</td>\n",
       "      <td>2</td>\n",
       "      <td>1</td>\n",
       "      <td>1</td>\n",
       "      <td>1</td>\n",
       "      <td>2</td>\n",
       "      <td>1</td>\n",
       "      <td>0</td>\n",
       "      <td>2</td>\n",
       "      <td>0</td>\n",
       "    </tr>\n",
       "    <tr>\n",
       "      <th>1</th>\n",
       "      <td>0.608696</td>\n",
       "      <td>1</td>\n",
       "      <td>0.956522</td>\n",
       "      <td>0</td>\n",
       "      <td>0</td>\n",
       "      <td>3</td>\n",
       "      <td>5</td>\n",
       "      <td>0</td>\n",
       "      <td>0</td>\n",
       "      <td>0</td>\n",
       "      <td>...</td>\n",
       "      <td>0</td>\n",
       "      <td>0</td>\n",
       "      <td>0</td>\n",
       "      <td>1</td>\n",
       "      <td>0</td>\n",
       "      <td>0</td>\n",
       "      <td>1</td>\n",
       "      <td>1</td>\n",
       "      <td>0</td>\n",
       "      <td>0</td>\n",
       "    </tr>\n",
       "    <tr>\n",
       "      <th>2</th>\n",
       "      <td>0.347826</td>\n",
       "      <td>1</td>\n",
       "      <td>0.130435</td>\n",
       "      <td>0</td>\n",
       "      <td>0</td>\n",
       "      <td>3</td>\n",
       "      <td>4</td>\n",
       "      <td>0</td>\n",
       "      <td>1</td>\n",
       "      <td>1</td>\n",
       "      <td>...</td>\n",
       "      <td>0</td>\n",
       "      <td>1</td>\n",
       "      <td>1</td>\n",
       "      <td>1</td>\n",
       "      <td>2</td>\n",
       "      <td>2</td>\n",
       "      <td>2</td>\n",
       "      <td>2</td>\n",
       "      <td>1</td>\n",
       "      <td>0</td>\n",
       "    </tr>\n",
       "    <tr>\n",
       "      <th>3</th>\n",
       "      <td>0.326087</td>\n",
       "      <td>1</td>\n",
       "      <td>0.934783</td>\n",
       "      <td>0</td>\n",
       "      <td>1</td>\n",
       "      <td>2</td>\n",
       "      <td>2</td>\n",
       "      <td>0</td>\n",
       "      <td>1</td>\n",
       "      <td>1</td>\n",
       "      <td>...</td>\n",
       "      <td>1</td>\n",
       "      <td>1</td>\n",
       "      <td>2</td>\n",
       "      <td>2</td>\n",
       "      <td>1</td>\n",
       "      <td>0</td>\n",
       "      <td>0</td>\n",
       "      <td>0</td>\n",
       "      <td>1</td>\n",
       "      <td>1</td>\n",
       "    </tr>\n",
       "    <tr>\n",
       "      <th>4</th>\n",
       "      <td>0.326087</td>\n",
       "      <td>1</td>\n",
       "      <td>0.956522</td>\n",
       "      <td>0</td>\n",
       "      <td>0</td>\n",
       "      <td>1</td>\n",
       "      <td>1</td>\n",
       "      <td>1</td>\n",
       "      <td>1</td>\n",
       "      <td>2</td>\n",
       "      <td>...</td>\n",
       "      <td>0</td>\n",
       "      <td>0</td>\n",
       "      <td>1</td>\n",
       "      <td>1</td>\n",
       "      <td>1</td>\n",
       "      <td>2</td>\n",
       "      <td>2</td>\n",
       "      <td>2</td>\n",
       "      <td>0</td>\n",
       "      <td>0</td>\n",
       "    </tr>\n",
       "  </tbody>\n",
       "</table>\n",
       "<p>5 rows × 23 columns</p>\n",
       "</div>"
      ],
      "text/plain": [
       "        Age  Gender   Country  self_employed  family_history  work_interfere  \\\n",
       "0  0.456522       0  0.956522              0               0               2   \n",
       "1  0.608696       1  0.956522              0               0               3   \n",
       "2  0.347826       1  0.130435              0               0               3   \n",
       "3  0.326087       1  0.934783              0               1               2   \n",
       "4  0.326087       1  0.956522              0               0               1   \n",
       "\n",
       "   no_employees  remote_work  tech_company  benefits       ...         \\\n",
       "0             4            0             1         2       ...          \n",
       "1             5            0             0         0       ...          \n",
       "2             4            0             1         1       ...          \n",
       "3             2            0             1         1       ...          \n",
       "4             1            1             1         2       ...          \n",
       "\n",
       "   anonymity  leave  mental_health_consequence  phys_health_consequence  \\\n",
       "0          2      2                          1                        1   \n",
       "1          0      0                          0                        1   \n",
       "2          0      1                          1                        1   \n",
       "3          1      1                          2                        2   \n",
       "4          0      0                          1                        1   \n",
       "\n",
       "   coworkers  supervisor  mental_health_interview  phys_health_interview  \\\n",
       "0          1           2                        1                      0   \n",
       "1          0           0                        1                      1   \n",
       "2          2           2                        2                      2   \n",
       "3          1           0                        0                      0   \n",
       "4          1           2                        2                      2   \n",
       "\n",
       "   mental_vs_physical  obs_consequence  \n",
       "0                   2                0  \n",
       "1                   0                0  \n",
       "2                   1                0  \n",
       "3                   1                1  \n",
       "4                   0                0  \n",
       "\n",
       "[5 rows x 23 columns]"
      ]
     },
     "execution_count": 1289,
     "metadata": {},
     "output_type": "execute_result"
    }
   ],
   "source": [
    "X['Country'] = min_max_scaler.fit_transform(X[['Country']])\n",
    "X.head(5)"
   ]
  },
  {
   "cell_type": "code",
   "execution_count": 1290,
   "metadata": {
    "collapsed": true
   },
   "outputs": [],
   "source": [
    "from sklearn.model_selection import train_test_split\n",
    "x_train, x_test, y_train, y_test = train_test_split(X,y,test_size=0.3,random_state=0)"
   ]
  },
  {
   "cell_type": "markdown",
   "metadata": {},
   "source": [
    "## Model Building"
   ]
  },
  {
   "cell_type": "markdown",
   "metadata": {},
   "source": [
    "### Logistoc regression"
   ]
  },
  {
   "cell_type": "code",
   "execution_count": 1291,
   "metadata": {},
   "outputs": [
    {
     "data": {
      "text/plain": [
       "LogisticRegression(C=1.0, class_weight=None, dual=False, fit_intercept=True,\n",
       "          intercept_scaling=1, max_iter=100, multi_class='ovr', n_jobs=1,\n",
       "          penalty='l2', random_state=None, solver='liblinear', tol=0.0001,\n",
       "          verbose=0, warm_start=False)"
      ]
     },
     "execution_count": 1291,
     "metadata": {},
     "output_type": "execute_result"
    }
   ],
   "source": [
    "from sklearn.linear_model import LogisticRegression\n",
    "from sklearn import metrics\n",
    "logreg = LogisticRegression()\n",
    "model1=logreg.fit(x_train,y_train )\n",
    "model1"
   ]
  },
  {
   "cell_type": "code",
   "execution_count": 1292,
   "metadata": {},
   "outputs": [
    {
     "data": {
      "text/plain": [
       "0.82025028441410697"
      ]
     },
     "execution_count": 1292,
     "metadata": {},
     "output_type": "execute_result"
    }
   ],
   "source": [
    "#how well the model learnt the train data\n",
    "model1.score(x_train, y_train)"
   ]
  },
  {
   "cell_type": "code",
   "execution_count": 1293,
   "metadata": {},
   "outputs": [
    {
     "data": {
      "text/plain": [
       "0.77248677248677244"
      ]
     },
     "execution_count": 1293,
     "metadata": {},
     "output_type": "execute_result"
    }
   ],
   "source": [
    "model1.score(x_test, y_test)"
   ]
  },
  {
   "cell_type": "markdown",
   "metadata": {},
   "source": [
    "So in this model, 77% of the variability in y_test can be explained using x_test"
   ]
  },
  {
   "cell_type": "markdown",
   "metadata": {},
   "source": [
    "## What are the most important factors in whether or not somebody will seek treatment for mental health? "
   ]
  },
  {
   "cell_type": "markdown",
   "metadata": {},
   "source": [
    "### Coefficients"
   ]
  },
  {
   "cell_type": "code",
   "execution_count": 1294,
   "metadata": {},
   "outputs": [
    {
     "data": {
      "text/plain": [
       "array([[ 0.44167615, -0.60292965,  0.12852138, -0.13798879,  0.96221728,\n",
       "         0.95936528, -0.04045515,  0.12900126, -0.52420735,  0.30552977,\n",
       "         0.26760835, -0.02744175, -0.3659579 ,  0.26689966,  0.001075  ,\n",
       "        -0.15639271,  0.01216042,  0.42348282, -0.20858439, -0.03973734,\n",
       "         0.26869801, -0.06801734,  0.7934968 ]])"
      ]
     },
     "execution_count": 1294,
     "metadata": {},
     "output_type": "execute_result"
    }
   ],
   "source": [
    "model1.coef_"
   ]
  },
  {
   "cell_type": "code",
   "execution_count": 1295,
   "metadata": {
    "collapsed": true
   },
   "outputs": [],
   "source": [
    "coe=pd.DataFrame(list(zip(x_train.columns, np.transpose(model1.coef_))))"
   ]
  },
  {
   "cell_type": "code",
   "execution_count": 1296,
   "metadata": {},
   "outputs": [
    {
     "data": {
      "text/html": [
       "<div>\n",
       "<style>\n",
       "    .dataframe thead tr:only-child th {\n",
       "        text-align: right;\n",
       "    }\n",
       "\n",
       "    .dataframe thead th {\n",
       "        text-align: left;\n",
       "    }\n",
       "\n",
       "    .dataframe tbody tr th {\n",
       "        vertical-align: top;\n",
       "    }\n",
       "</style>\n",
       "<table border=\"1\" class=\"dataframe\">\n",
       "  <thead>\n",
       "    <tr style=\"text-align: right;\">\n",
       "      <th></th>\n",
       "      <th>0</th>\n",
       "      <th>1</th>\n",
       "    </tr>\n",
       "  </thead>\n",
       "  <tbody>\n",
       "    <tr>\n",
       "      <th>1</th>\n",
       "      <td>Gender</td>\n",
       "      <td>[-0.602929647856]</td>\n",
       "    </tr>\n",
       "    <tr>\n",
       "      <th>8</th>\n",
       "      <td>tech_company</td>\n",
       "      <td>[-0.52420734567]</td>\n",
       "    </tr>\n",
       "    <tr>\n",
       "      <th>12</th>\n",
       "      <td>seek_help</td>\n",
       "      <td>[-0.365957895247]</td>\n",
       "    </tr>\n",
       "    <tr>\n",
       "      <th>18</th>\n",
       "      <td>supervisor</td>\n",
       "      <td>[-0.208584385146]</td>\n",
       "    </tr>\n",
       "    <tr>\n",
       "      <th>15</th>\n",
       "      <td>mental_health_consequence</td>\n",
       "      <td>[-0.156392711508]</td>\n",
       "    </tr>\n",
       "    <tr>\n",
       "      <th>3</th>\n",
       "      <td>self_employed</td>\n",
       "      <td>[-0.137988792788]</td>\n",
       "    </tr>\n",
       "    <tr>\n",
       "      <th>21</th>\n",
       "      <td>mental_vs_physical</td>\n",
       "      <td>[-0.0680173443505]</td>\n",
       "    </tr>\n",
       "    <tr>\n",
       "      <th>6</th>\n",
       "      <td>no_employees</td>\n",
       "      <td>[-0.0404551502378]</td>\n",
       "    </tr>\n",
       "    <tr>\n",
       "      <th>19</th>\n",
       "      <td>mental_health_interview</td>\n",
       "      <td>[-0.0397373363719]</td>\n",
       "    </tr>\n",
       "    <tr>\n",
       "      <th>11</th>\n",
       "      <td>wellness_program</td>\n",
       "      <td>[-0.0274417468378]</td>\n",
       "    </tr>\n",
       "    <tr>\n",
       "      <th>14</th>\n",
       "      <td>leave</td>\n",
       "      <td>[0.00107500389805]</td>\n",
       "    </tr>\n",
       "    <tr>\n",
       "      <th>16</th>\n",
       "      <td>phys_health_consequence</td>\n",
       "      <td>[0.0121604215475]</td>\n",
       "    </tr>\n",
       "    <tr>\n",
       "      <th>2</th>\n",
       "      <td>Country</td>\n",
       "      <td>[0.128521377944]</td>\n",
       "    </tr>\n",
       "    <tr>\n",
       "      <th>7</th>\n",
       "      <td>remote_work</td>\n",
       "      <td>[0.129001264913]</td>\n",
       "    </tr>\n",
       "    <tr>\n",
       "      <th>13</th>\n",
       "      <td>anonymity</td>\n",
       "      <td>[0.266899658333]</td>\n",
       "    </tr>\n",
       "    <tr>\n",
       "      <th>10</th>\n",
       "      <td>care_options</td>\n",
       "      <td>[0.267608350065]</td>\n",
       "    </tr>\n",
       "    <tr>\n",
       "      <th>20</th>\n",
       "      <td>phys_health_interview</td>\n",
       "      <td>[0.268698010163]</td>\n",
       "    </tr>\n",
       "    <tr>\n",
       "      <th>9</th>\n",
       "      <td>benefits</td>\n",
       "      <td>[0.305529766596]</td>\n",
       "    </tr>\n",
       "    <tr>\n",
       "      <th>17</th>\n",
       "      <td>coworkers</td>\n",
       "      <td>[0.423482817824]</td>\n",
       "    </tr>\n",
       "    <tr>\n",
       "      <th>0</th>\n",
       "      <td>Age</td>\n",
       "      <td>[0.441676146537]</td>\n",
       "    </tr>\n",
       "    <tr>\n",
       "      <th>22</th>\n",
       "      <td>obs_consequence</td>\n",
       "      <td>[0.793496796237]</td>\n",
       "    </tr>\n",
       "    <tr>\n",
       "      <th>5</th>\n",
       "      <td>work_interfere</td>\n",
       "      <td>[0.959365281451]</td>\n",
       "    </tr>\n",
       "    <tr>\n",
       "      <th>4</th>\n",
       "      <td>family_history</td>\n",
       "      <td>[0.962217280516]</td>\n",
       "    </tr>\n",
       "  </tbody>\n",
       "</table>\n",
       "</div>"
      ],
      "text/plain": [
       "                            0                   1\n",
       "1                      Gender   [-0.602929647856]\n",
       "8                tech_company    [-0.52420734567]\n",
       "12                  seek_help   [-0.365957895247]\n",
       "18                 supervisor   [-0.208584385146]\n",
       "15  mental_health_consequence   [-0.156392711508]\n",
       "3               self_employed   [-0.137988792788]\n",
       "21         mental_vs_physical  [-0.0680173443505]\n",
       "6                no_employees  [-0.0404551502378]\n",
       "19    mental_health_interview  [-0.0397373363719]\n",
       "11           wellness_program  [-0.0274417468378]\n",
       "14                      leave  [0.00107500389805]\n",
       "16    phys_health_consequence   [0.0121604215475]\n",
       "2                     Country    [0.128521377944]\n",
       "7                 remote_work    [0.129001264913]\n",
       "13                  anonymity    [0.266899658333]\n",
       "10               care_options    [0.267608350065]\n",
       "20      phys_health_interview    [0.268698010163]\n",
       "9                    benefits    [0.305529766596]\n",
       "17                  coworkers    [0.423482817824]\n",
       "0                         Age    [0.441676146537]\n",
       "22            obs_consequence    [0.793496796237]\n",
       "5              work_interfere    [0.959365281451]\n",
       "4              family_history    [0.962217280516]"
      ]
     },
     "execution_count": 1296,
     "metadata": {},
     "output_type": "execute_result"
    }
   ],
   "source": [
    "coe.sort_values(by=[1])"
   ]
  },
  {
   "cell_type": "markdown",
   "metadata": {},
   "source": [
    "The the variable with high positive coefficients \n",
    "####  family_history, then work_interfere, obs_consequence(Have you heard of or observed negative consequences for coworkers with mental health conditions in your workplace?), and Age. The lowest negative coefficient is for Gender. \n",
    "\n",
    "So features like: \n",
    "### family_history, work_interfere, obs_consequence, Age, Gender \n",
    "affect more whether someone seeks treatment for his mental illness or not  according to the coefficients."
   ]
  },
  {
   "cell_type": "code",
   "execution_count": 1297,
   "metadata": {},
   "outputs": [
    {
     "name": "stdout",
     "output_type": "stream",
     "text": [
      "The intercept for our model is -2.3024187471680118\n"
     ]
    }
   ],
   "source": [
    "intercept = model1.intercept_[0]\n",
    "\n",
    "print(\"The intercept for our model is {}\".format(intercept))"
   ]
  },
  {
   "cell_type": "markdown",
   "metadata": {},
   "source": [
    "### Recursive Feature Elimination\n",
    "\n",
    "It works by recursively removing attributes and building a model on those attributes that remain."
   ]
  },
  {
   "cell_type": "code",
   "execution_count": 1298,
   "metadata": {},
   "outputs": [
    {
     "name": "stdout",
     "output_type": "stream",
     "text": [
      "[False  True False False  True  True False False  True  True False False\n",
      " False False False False False False False False False False  True]\n",
      "[ 3  1 12 11  1  1 15 10  1  1  5 16  4  7 18  9 17  2  8 14  6 13  1]\n"
     ]
    }
   ],
   "source": [
    "from sklearn.feature_selection import RFE\n",
    "rfe = RFE(model1, 6)\n",
    "rfe = rfe.fit(x_train, y_train)\n",
    "# summarize the selection of the attributes\n",
    "print(rfe.support_)\n",
    "print(rfe.ranking_)"
   ]
  },
  {
   "cell_type": "code",
   "execution_count": 1299,
   "metadata": {},
   "outputs": [
    {
     "data": {
      "text/plain": [
       "Index(['Age', 'Gender', 'Country', 'self_employed', 'family_history',\n",
       "       'work_interfere', 'no_employees', 'remote_work', 'tech_company',\n",
       "       'benefits', 'care_options', 'wellness_program', 'seek_help',\n",
       "       'anonymity', 'leave', 'mental_health_consequence',\n",
       "       'phys_health_consequence', 'coworkers', 'supervisor',\n",
       "       'mental_health_interview', 'phys_health_interview',\n",
       "       'mental_vs_physical', 'obs_consequence'],\n",
       "      dtype='object')"
      ]
     },
     "execution_count": 1299,
     "metadata": {},
     "output_type": "execute_result"
    }
   ],
   "source": [
    "x_train.columns"
   ]
  },
  {
   "cell_type": "code",
   "execution_count": 1300,
   "metadata": {
    "collapsed": true
   },
   "outputs": [],
   "source": [
    "feature_1st_rank=['Age', 'Gender', 'family_history','work_interfere','obs_consequence','benefits']"
   ]
  },
  {
   "cell_type": "markdown",
   "metadata": {},
   "source": [
    "#### The result is almost the same with features selected accoring to coefficients. While benefits showed up"
   ]
  },
  {
   "cell_type": "markdown",
   "metadata": {},
   "source": [
    "## RandomForest"
   ]
  },
  {
   "cell_type": "code",
   "execution_count": 1301,
   "metadata": {},
   "outputs": [
    {
     "data": {
      "text/plain": [
       "RandomForestClassifier(bootstrap=True, class_weight=None, criterion='gini',\n",
       "            max_depth=4, max_features='auto', max_leaf_nodes=None,\n",
       "            min_impurity_decrease=0.0, min_impurity_split=None,\n",
       "            min_samples_leaf=1, min_samples_split=2,\n",
       "            min_weight_fraction_leaf=0.0, n_estimators=100, n_jobs=1,\n",
       "            oob_score=False, random_state=0, verbose=0, warm_start=False)"
      ]
     },
     "execution_count": 1301,
     "metadata": {},
     "output_type": "execute_result"
    }
   ],
   "source": [
    "from sklearn.ensemble import RandomForestClassifier\n",
    "clf1 = RandomForestClassifier(n_estimators=100,max_depth=4, random_state=0)\n",
    "clf1.fit(x_train, y_train)\n"
   ]
  },
  {
   "cell_type": "markdown",
   "metadata": {},
   "source": [
    "### feature importances"
   ]
  },
  {
   "cell_type": "code",
   "execution_count": 1302,
   "metadata": {},
   "outputs": [
    {
     "name": "stdout",
     "output_type": "stream",
     "text": [
      "[ 0.03207323  0.03069445  0.01585042  0.00437567  0.14604486  0.51539412\n",
      "  0.01286335  0.00323945  0.00507623  0.03072535  0.07060233  0.0086489\n",
      "  0.0059123   0.01362695  0.0102988   0.01164275  0.00408249  0.00864637\n",
      "  0.00691789  0.00631397  0.00759404  0.00683195  0.04254411]\n"
     ]
    }
   ],
   "source": [
    "print(clf1.feature_importances_)\n"
   ]
  },
  {
   "cell_type": "code",
   "execution_count": 1303,
   "metadata": {
    "collapsed": true
   },
   "outputs": [],
   "source": [
    "coe_t=pd.DataFrame(list(zip(x_train.columns, np.transpose(clf1.feature_importances_))))"
   ]
  },
  {
   "cell_type": "code",
   "execution_count": 1304,
   "metadata": {},
   "outputs": [
    {
     "data": {
      "text/html": [
       "<div>\n",
       "<style>\n",
       "    .dataframe thead tr:only-child th {\n",
       "        text-align: right;\n",
       "    }\n",
       "\n",
       "    .dataframe thead th {\n",
       "        text-align: left;\n",
       "    }\n",
       "\n",
       "    .dataframe tbody tr th {\n",
       "        vertical-align: top;\n",
       "    }\n",
       "</style>\n",
       "<table border=\"1\" class=\"dataframe\">\n",
       "  <thead>\n",
       "    <tr style=\"text-align: right;\">\n",
       "      <th></th>\n",
       "      <th>0</th>\n",
       "      <th>1</th>\n",
       "    </tr>\n",
       "  </thead>\n",
       "  <tbody>\n",
       "    <tr>\n",
       "      <th>5</th>\n",
       "      <td>work_interfere</td>\n",
       "      <td>0.515394</td>\n",
       "    </tr>\n",
       "    <tr>\n",
       "      <th>4</th>\n",
       "      <td>family_history</td>\n",
       "      <td>0.146045</td>\n",
       "    </tr>\n",
       "    <tr>\n",
       "      <th>10</th>\n",
       "      <td>care_options</td>\n",
       "      <td>0.070602</td>\n",
       "    </tr>\n",
       "    <tr>\n",
       "      <th>22</th>\n",
       "      <td>obs_consequence</td>\n",
       "      <td>0.042544</td>\n",
       "    </tr>\n",
       "    <tr>\n",
       "      <th>0</th>\n",
       "      <td>Age</td>\n",
       "      <td>0.032073</td>\n",
       "    </tr>\n",
       "    <tr>\n",
       "      <th>9</th>\n",
       "      <td>benefits</td>\n",
       "      <td>0.030725</td>\n",
       "    </tr>\n",
       "    <tr>\n",
       "      <th>1</th>\n",
       "      <td>Gender</td>\n",
       "      <td>0.030694</td>\n",
       "    </tr>\n",
       "    <tr>\n",
       "      <th>2</th>\n",
       "      <td>Country</td>\n",
       "      <td>0.015850</td>\n",
       "    </tr>\n",
       "    <tr>\n",
       "      <th>13</th>\n",
       "      <td>anonymity</td>\n",
       "      <td>0.013627</td>\n",
       "    </tr>\n",
       "    <tr>\n",
       "      <th>6</th>\n",
       "      <td>no_employees</td>\n",
       "      <td>0.012863</td>\n",
       "    </tr>\n",
       "    <tr>\n",
       "      <th>15</th>\n",
       "      <td>mental_health_consequence</td>\n",
       "      <td>0.011643</td>\n",
       "    </tr>\n",
       "    <tr>\n",
       "      <th>14</th>\n",
       "      <td>leave</td>\n",
       "      <td>0.010299</td>\n",
       "    </tr>\n",
       "    <tr>\n",
       "      <th>11</th>\n",
       "      <td>wellness_program</td>\n",
       "      <td>0.008649</td>\n",
       "    </tr>\n",
       "    <tr>\n",
       "      <th>17</th>\n",
       "      <td>coworkers</td>\n",
       "      <td>0.008646</td>\n",
       "    </tr>\n",
       "    <tr>\n",
       "      <th>20</th>\n",
       "      <td>phys_health_interview</td>\n",
       "      <td>0.007594</td>\n",
       "    </tr>\n",
       "    <tr>\n",
       "      <th>18</th>\n",
       "      <td>supervisor</td>\n",
       "      <td>0.006918</td>\n",
       "    </tr>\n",
       "    <tr>\n",
       "      <th>21</th>\n",
       "      <td>mental_vs_physical</td>\n",
       "      <td>0.006832</td>\n",
       "    </tr>\n",
       "    <tr>\n",
       "      <th>19</th>\n",
       "      <td>mental_health_interview</td>\n",
       "      <td>0.006314</td>\n",
       "    </tr>\n",
       "    <tr>\n",
       "      <th>12</th>\n",
       "      <td>seek_help</td>\n",
       "      <td>0.005912</td>\n",
       "    </tr>\n",
       "    <tr>\n",
       "      <th>8</th>\n",
       "      <td>tech_company</td>\n",
       "      <td>0.005076</td>\n",
       "    </tr>\n",
       "    <tr>\n",
       "      <th>3</th>\n",
       "      <td>self_employed</td>\n",
       "      <td>0.004376</td>\n",
       "    </tr>\n",
       "    <tr>\n",
       "      <th>16</th>\n",
       "      <td>phys_health_consequence</td>\n",
       "      <td>0.004082</td>\n",
       "    </tr>\n",
       "    <tr>\n",
       "      <th>7</th>\n",
       "      <td>remote_work</td>\n",
       "      <td>0.003239</td>\n",
       "    </tr>\n",
       "  </tbody>\n",
       "</table>\n",
       "</div>"
      ],
      "text/plain": [
       "                            0         1\n",
       "5              work_interfere  0.515394\n",
       "4              family_history  0.146045\n",
       "10               care_options  0.070602\n",
       "22            obs_consequence  0.042544\n",
       "0                         Age  0.032073\n",
       "9                    benefits  0.030725\n",
       "1                      Gender  0.030694\n",
       "2                     Country  0.015850\n",
       "13                  anonymity  0.013627\n",
       "6                no_employees  0.012863\n",
       "15  mental_health_consequence  0.011643\n",
       "14                      leave  0.010299\n",
       "11           wellness_program  0.008649\n",
       "17                  coworkers  0.008646\n",
       "20      phys_health_interview  0.007594\n",
       "18                 supervisor  0.006918\n",
       "21         mental_vs_physical  0.006832\n",
       "19    mental_health_interview  0.006314\n",
       "12                  seek_help  0.005912\n",
       "8                tech_company  0.005076\n",
       "3               self_employed  0.004376\n",
       "16    phys_health_consequence  0.004082\n",
       "7                 remote_work  0.003239"
      ]
     },
     "execution_count": 1304,
     "metadata": {},
     "output_type": "execute_result"
    }
   ],
   "source": [
    "coe_t.sort_values(by=[1],ascending=False)"
   ]
  },
  {
   "cell_type": "markdown",
   "metadata": {},
   "source": [
    "#### Acorrding to the importance value here, work_interfere, family_history, care_options, benefits,obs_consequence,Gender are selected. care_options, benefits even rank before gender and age."
   ]
  },
  {
   "cell_type": "code",
   "execution_count": 1305,
   "metadata": {
    "collapsed": true
   },
   "outputs": [],
   "source": [
    "tree_feature_important=[\"work_interfere\", \"family_history\", \"care_options\", \"benefits\",\"obs_consequence\",\"Gender\",\"Age\" ]"
   ]
  },
  {
   "cell_type": "code",
   "execution_count": 1306,
   "metadata": {
    "collapsed": true
   },
   "outputs": [],
   "source": [
    "overall_feature_important=[\"work_interfere\", \"family_history\", \"care_options\", \"benefits\",\"obs_consequence\",\"Gender\",\"Age\" ]"
   ]
  },
  {
   "cell_type": "markdown",
   "metadata": {},
   "source": [
    "### Based on above methods, work_interfere, family_history, care_options, benefits,obs_consequence, Gender, Age are important factors, but  work_interfere, family_history, obs_consequence, Gender, Age showed up stablely in three methods."
   ]
  },
  {
   "cell_type": "markdown",
   "metadata": {},
   "source": [
    "Tried to build model only with these import features, while the accuracy did not change much. So don't have to do it."
   ]
  },
  {
   "cell_type": "code",
   "execution_count": 1307,
   "metadata": {
    "collapsed": true
   },
   "outputs": [],
   "source": [
    "X_selected=X.loc[:, overall_feature_selection]"
   ]
  },
  {
   "cell_type": "code",
   "execution_count": 1308,
   "metadata": {
    "collapsed": true
   },
   "outputs": [],
   "source": [
    "x_train_selected, x_test_slected, y_train_s, y_test_s = train_test_split(X_selected,y,test_size=0.2,random_state=0)"
   ]
  },
  {
   "cell_type": "code",
   "execution_count": 1309,
   "metadata": {},
   "outputs": [
    {
     "data": {
      "text/plain": [
       "LogisticRegression(C=1.0, class_weight=None, dual=False, fit_intercept=True,\n",
       "          intercept_scaling=1, max_iter=100, multi_class='ovr', n_jobs=1,\n",
       "          penalty='l2', random_state=None, solver='liblinear', tol=0.0001,\n",
       "          verbose=0, warm_start=False)"
      ]
     },
     "execution_count": 1309,
     "metadata": {},
     "output_type": "execute_result"
    }
   ],
   "source": [
    "logreg3 = LogisticRegression()\n",
    "modelL_s=logreg3.fit(x_train_selected,y_train_s )\n",
    "modelL_s"
   ]
  },
  {
   "cell_type": "code",
   "execution_count": 1310,
   "metadata": {},
   "outputs": [
    {
     "data": {
      "text/plain": [
       "0.77777777777777779"
      ]
     },
     "execution_count": 1310,
     "metadata": {},
     "output_type": "execute_result"
    }
   ],
   "source": [
    "modelL_s.score(x_test_slected, y_test_s)"
   ]
  },
  {
   "cell_type": "code",
   "execution_count": 1311,
   "metadata": {
    "collapsed": true
   },
   "outputs": [],
   "source": [
    "y_pred_s = modelL_s.predict(x_test_slected)"
   ]
  },
  {
   "cell_type": "code",
   "execution_count": 1312,
   "metadata": {},
   "outputs": [
    {
     "name": "stdout",
     "output_type": "stream",
     "text": [
      "             precision    recall  f1-score   support\n",
      "\n",
      "          0       0.83      0.71      0.77       129\n",
      "          1       0.74      0.85      0.79       123\n",
      "\n",
      "avg / total       0.78      0.78      0.78       252\n",
      "\n"
     ]
    }
   ],
   "source": [
    "print(classification_report(y_test_s, y_pred_s))"
   ]
  },
  {
   "cell_type": "markdown",
   "metadata": {},
   "source": [
    "\n",
    "\n",
    "\n",
    "\n",
    "\n",
    "## Evaluate and select model "
   ]
  },
  {
   "cell_type": "markdown",
   "metadata": {},
   "source": [
    "### What predictions can we make with our model? "
   ]
  },
  {
   "cell_type": "markdown",
   "metadata": {},
   "source": [
    "#### Can we determine who did not seek treatment but should and with how much accuracy? (Can we predict whether a patient should go to seek treatment of his/her mental illness or not according to the values obtained in the dataset with how much accuracy?)"
   ]
  },
  {
   "cell_type": "markdown",
   "metadata": {},
   "source": [
    "### logsitic "
   ]
  },
  {
   "cell_type": "code",
   "execution_count": 1313,
   "metadata": {
    "collapsed": true
   },
   "outputs": [],
   "source": [
    "y_pred = logreg.predict(x_test)"
   ]
  },
  {
   "cell_type": "code",
   "execution_count": 1314,
   "metadata": {},
   "outputs": [
    {
     "data": {
      "text/plain": [
       "array([[136,  55],\n",
       "       [ 31, 156]])"
      ]
     },
     "execution_count": 1314,
     "metadata": {},
     "output_type": "execute_result"
    }
   ],
   "source": [
    "from sklearn.metrics import confusion_matrix,roc_curve, roc_auc_score\n",
    "confusionmatrix = confusion_matrix(y_test, y_pred)\n",
    "confusionmatrix"
   ]
  },
  {
   "cell_type": "markdown",
   "metadata": {},
   "source": [
    "The result of confusion_matrix tells that this model has 135+156 correct predictions and 31+55 incorrect predictions"
   ]
  },
  {
   "cell_type": "code",
   "execution_count": 1315,
   "metadata": {
    "collapsed": true
   },
   "outputs": [],
   "source": [
    "le_t=le.fit(data2[\"treatment\"])"
   ]
  },
  {
   "cell_type": "code",
   "execution_count": 1316,
   "metadata": {},
   "outputs": [
    {
     "data": {
      "text/plain": [
       "array(['No', 'Yes'], dtype=object)"
      ]
     },
     "execution_count": 1316,
     "metadata": {},
     "output_type": "execute_result"
    }
   ],
   "source": [
    "le_t.inverse_transform([0,1])"
   ]
  },
  {
   "cell_type": "code",
   "execution_count": 1317,
   "metadata": {},
   "outputs": [
    {
     "name": "stdout",
     "output_type": "stream",
     "text": [
      "             precision    recall  f1-score   support\n",
      "\n",
      "          0       0.81      0.71      0.76       191\n",
      "          1       0.74      0.83      0.78       187\n",
      "\n",
      "avg / total       0.78      0.77      0.77       378\n",
      "\n"
     ]
    }
   ],
   "source": [
    "from sklearn.metrics import classification_report\n",
    "print(classification_report(y_test, y_pred))"
   ]
  },
  {
   "cell_type": "code",
   "execution_count": 1318,
   "metadata": {
    "collapsed": true
   },
   "outputs": [],
   "source": [
    "y_pred_b=logreg.predict_proba(x_test)\n",
    "y_pred_b=y_pred_b[:,1]"
   ]
  },
  {
   "cell_type": "code",
   "execution_count": 1319,
   "metadata": {},
   "outputs": [
    {
     "data": {
      "text/plain": [
       "0.85449505837556339"
      ]
     },
     "execution_count": 1319,
     "metadata": {},
     "output_type": "execute_result"
    }
   ],
   "source": [
    "from sklearn.metrics import roc_auc_score\n",
    "roc_auc_score(y_test, y_pred_b)"
   ]
  },
  {
   "cell_type": "code",
   "execution_count": 1320,
   "metadata": {
    "collapsed": true
   },
   "outputs": [],
   "source": [
    "fpr1, tpr1, thresholds = metrics.roc_curve(y_test, y_pred_b)"
   ]
  },
  {
   "cell_type": "code",
   "execution_count": 1321,
   "metadata": {
    "collapsed": true
   },
   "outputs": [],
   "source": [
    "roc_auc = metrics.auc(fpr1, tpr1)"
   ]
  },
  {
   "cell_type": "code",
   "execution_count": 1322,
   "metadata": {},
   "outputs": [
    {
     "data": {
      "image/png": "[encoded data removed]",
      "text/plain": [
       "<matplotlib.figure.Figure at 0x1a132e3128>"
      ]
     },
     "metadata": {},
     "output_type": "display_data"
    }
   ],
   "source": [
    "import matplotlib.pyplot as pltt\n",
    "pltt.title('Receiver Operating Characteristic')\n",
    "pltt.plot(fpr1, tpr1, 'b', label = 'AUC = %0.2f' % roc_auc)\n",
    "pltt.legend(loc = 'lower right')\n",
    "pltt.plot([0, 1], [0, 1],'r--')\n",
    "pltt.xlim([0, 1])\n",
    "pltt.ylim([0, 1])\n",
    "pltt.ylabel('True Positive Rate')\n",
    "pltt.xlabel('False Positive Rate')\n",
    "pltt.show()"
   ]
  },
  {
   "cell_type": "code",
   "execution_count": 1323,
   "metadata": {
    "collapsed": true
   },
   "outputs": [],
   "source": [
    "#change the penalty from l2 to l1 \n",
    "#not much differentce\n",
    "logreg2 = LogisticRegression(penalty='l1')\n",
    "model2=logreg2.fit(x_train,y_train )\n",
    "y_pred_2 = logreg2.predict(x_test)"
   ]
  },
  {
   "cell_type": "code",
   "execution_count": 1324,
   "metadata": {},
   "outputs": [
    {
     "name": "stdout",
     "output_type": "stream",
     "text": [
      "             precision    recall  f1-score   support\n",
      "\n",
      "          0       0.82      0.71      0.76       191\n",
      "          1       0.74      0.84      0.79       187\n",
      "\n",
      "avg / total       0.78      0.78      0.77       378\n",
      "\n"
     ]
    }
   ],
   "source": [
    "print(classification_report(y_test, y_pred_2))"
   ]
  },
  {
   "cell_type": "markdown",
   "metadata": {},
   "source": [
    "### Random forest"
   ]
  },
  {
   "cell_type": "code",
   "execution_count": 1325,
   "metadata": {
    "collapsed": true
   },
   "outputs": [],
   "source": [
    "y_pred_tree=clf1.predict(x_test)"
   ]
  },
  {
   "cell_type": "code",
   "execution_count": 1326,
   "metadata": {},
   "outputs": [
    {
     "data": {
      "text/plain": [
       "0.80423280423280419"
      ]
     },
     "execution_count": 1326,
     "metadata": {},
     "output_type": "execute_result"
    }
   ],
   "source": [
    "clf1.score(x_test,y_test)"
   ]
  },
  {
   "cell_type": "code",
   "execution_count": 1327,
   "metadata": {},
   "outputs": [
    {
     "data": {
      "text/plain": [
       "0.80544278634823763"
      ]
     },
     "execution_count": 1327,
     "metadata": {},
     "output_type": "execute_result"
    }
   ],
   "source": [
    "roc_auc_score(y_test, y_pred_tree)"
   ]
  },
  {
   "cell_type": "code",
   "execution_count": 1328,
   "metadata": {},
   "outputs": [
    {
     "name": "stdout",
     "output_type": "stream",
     "text": [
      "             precision    recall  f1-score   support\n",
      "\n",
      "          0       0.90      0.69      0.78       191\n",
      "          1       0.74      0.92      0.82       187\n",
      "\n",
      "avg / total       0.82      0.80      0.80       378\n",
      "\n"
     ]
    }
   ],
   "source": [
    "print(classification_report(y_test, y_pred_tree))"
   ]
  },
  {
   "cell_type": "markdown",
   "metadata": {},
   "source": [
    "### KNN"
   ]
  },
  {
   "cell_type": "code",
   "execution_count": 1329,
   "metadata": {},
   "outputs": [
    {
     "data": {
      "text/plain": [
       "KNeighborsClassifier(algorithm='auto', leaf_size=30, metric='minkowski',\n",
       "           metric_params=None, n_jobs=1, n_neighbors=3, p=2,\n",
       "           weights='uniform')"
      ]
     },
     "execution_count": 1329,
     "metadata": {},
     "output_type": "execute_result"
    }
   ],
   "source": [
    "from sklearn.neighbors import KNeighborsClassifier\n",
    "neigh = KNeighborsClassifier(n_neighbors=3)\n",
    "neigh.fit(x_train, y_train) \n",
    "\n"
   ]
  },
  {
   "cell_type": "code",
   "execution_count": 1330,
   "metadata": {
    "collapsed": true
   },
   "outputs": [],
   "source": [
    "y_pred_n=neigh.predict(x_test)\n"
   ]
  },
  {
   "cell_type": "code",
   "execution_count": 1331,
   "metadata": {},
   "outputs": [
    {
     "data": {
      "text/plain": [
       "0.74093568888764449"
      ]
     },
     "execution_count": 1331,
     "metadata": {},
     "output_type": "execute_result"
    }
   ],
   "source": [
    "roc_auc_score(y_test, y_pred_n)"
   ]
  },
  {
   "cell_type": "code",
   "execution_count": 1332,
   "metadata": {},
   "outputs": [
    {
     "name": "stdout",
     "output_type": "stream",
     "text": [
      "             precision    recall  f1-score   support\n",
      "\n",
      "          0       0.75      0.72      0.74       191\n",
      "          1       0.73      0.76      0.74       187\n",
      "\n",
      "avg / total       0.74      0.74      0.74       378\n",
      "\n"
     ]
    }
   ],
   "source": [
    "print(classification_report(y_test, y_pred_n))"
   ]
  },
  {
   "cell_type": "markdown",
   "metadata": {},
   "source": [
    "### Bagging "
   ]
  },
  {
   "cell_type": "code",
   "execution_count": 1333,
   "metadata": {
    "collapsed": true
   },
   "outputs": [],
   "source": [
    "from sklearn.ensemble import BaggingClassifier\n",
    "from sklearn.tree import DecisionTreeClassifier\n",
    "bagging = BaggingClassifier(DecisionTreeClassifier(), max_samples=1.0, max_features=1.0)"
   ]
  },
  {
   "cell_type": "code",
   "execution_count": 1334,
   "metadata": {},
   "outputs": [
    {
     "data": {
      "text/plain": [
       "BaggingClassifier(base_estimator=DecisionTreeClassifier(class_weight=None, criterion='gini', max_depth=None,\n",
       "            max_features=None, max_leaf_nodes=None,\n",
       "            min_impurity_decrease=0.0, min_impurity_split=None,\n",
       "            min_samples_leaf=1, min_samples_split=2,\n",
       "            min_weight_fraction_leaf=0.0, presort=False, random_state=None,\n",
       "            splitter='best'),\n",
       "         bootstrap=True, bootstrap_features=False, max_features=1.0,\n",
       "         max_samples=1.0, n_estimators=10, n_jobs=1, oob_score=False,\n",
       "         random_state=None, verbose=0, warm_start=False)"
      ]
     },
     "execution_count": 1334,
     "metadata": {},
     "output_type": "execute_result"
    }
   ],
   "source": [
    "bagging"
   ]
  },
  {
   "cell_type": "code",
   "execution_count": 1335,
   "metadata": {},
   "outputs": [
    {
     "data": {
      "text/plain": [
       "BaggingClassifier(base_estimator=DecisionTreeClassifier(class_weight=None, criterion='gini', max_depth=None,\n",
       "            max_features=None, max_leaf_nodes=None,\n",
       "            min_impurity_decrease=0.0, min_impurity_split=None,\n",
       "            min_samples_leaf=1, min_samples_split=2,\n",
       "            min_weight_fraction_leaf=0.0, presort=False, random_state=None,\n",
       "            splitter='best'),\n",
       "         bootstrap=True, bootstrap_features=False, max_features=1.0,\n",
       "         max_samples=1.0, n_estimators=10, n_jobs=1, oob_score=False,\n",
       "         random_state=None, verbose=0, warm_start=False)"
      ]
     },
     "execution_count": 1335,
     "metadata": {},
     "output_type": "execute_result"
    }
   ],
   "source": [
    "bagging.fit(x_train, y_train)"
   ]
  },
  {
   "cell_type": "code",
   "execution_count": 1336,
   "metadata": {
    "collapsed": true
   },
   "outputs": [],
   "source": [
    "y_pred_ba= bagging.predict(x_test)"
   ]
  },
  {
   "cell_type": "code",
   "execution_count": 1337,
   "metadata": {},
   "outputs": [
    {
     "data": {
      "text/plain": [
       "0.7890080353893103"
      ]
     },
     "execution_count": 1337,
     "metadata": {},
     "output_type": "execute_result"
    }
   ],
   "source": [
    "roc_auc_score(y_test, y_pred_ba)"
   ]
  },
  {
   "cell_type": "code",
   "execution_count": 1338,
   "metadata": {},
   "outputs": [
    {
     "name": "stdout",
     "output_type": "stream",
     "text": [
      "             precision    recall  f1-score   support\n",
      "\n",
      "          0       0.83      0.73      0.78       191\n",
      "          1       0.75      0.85      0.80       187\n",
      "\n",
      "avg / total       0.79      0.79      0.79       378\n",
      "\n"
     ]
    }
   ],
   "source": [
    "print(classification_report(y_test, y_pred_ba))"
   ]
  },
  {
   "cell_type": "markdown",
   "metadata": {},
   "source": [
    "### Boosting"
   ]
  },
  {
   "cell_type": "code",
   "execution_count": 1339,
   "metadata": {
    "collapsed": true
   },
   "outputs": [],
   "source": [
    "from sklearn.model_selection import cross_val_score\n",
    "from sklearn.ensemble import AdaBoostClassifier\n",
    "clf5 = AdaBoostClassifier(n_estimators=600)\n"
   ]
  },
  {
   "cell_type": "code",
   "execution_count": 1340,
   "metadata": {},
   "outputs": [
    {
     "data": {
      "text/plain": [
       "AdaBoostClassifier(algorithm='SAMME.R', base_estimator=None,\n",
       "          learning_rate=1.0, n_estimators=600, random_state=None)"
      ]
     },
     "execution_count": 1340,
     "metadata": {},
     "output_type": "execute_result"
    }
   ],
   "source": [
    "clf5.fit(x_train,y_train)"
   ]
  },
  {
   "cell_type": "code",
   "execution_count": 1341,
   "metadata": {
    "collapsed": true
   },
   "outputs": [],
   "source": [
    "y_pred_bo= clf5.predict(x_test)"
   ]
  },
  {
   "cell_type": "code",
   "execution_count": 1342,
   "metadata": {},
   "outputs": [
    {
     "data": {
      "text/plain": [
       "0.79151384494778398"
      ]
     },
     "execution_count": 1342,
     "metadata": {},
     "output_type": "execute_result"
    }
   ],
   "source": [
    "roc_auc_score(y_test, y_pred_bo)"
   ]
  },
  {
   "cell_type": "code",
   "execution_count": 1343,
   "metadata": {},
   "outputs": [
    {
     "name": "stdout",
     "output_type": "stream",
     "text": [
      "             precision    recall  f1-score   support\n",
      "\n",
      "          0       0.83      0.74      0.78       191\n",
      "          1       0.76      0.84      0.80       187\n",
      "\n",
      "avg / total       0.79      0.79      0.79       378\n",
      "\n"
     ]
    }
   ],
   "source": [
    "print(classification_report(y_test, y_pred_bo))"
   ]
  },
  {
   "cell_type": "markdown",
   "metadata": {},
   "source": [
    "### How did you select and determine the correct model to answer your question?"
   ]
  },
  {
   "cell_type": "markdown",
   "metadata": {},
   "source": [
    "#### Seems random forest is the best model from above evaluating methods.  Finally, try the voting methods and use cross_val_score to calculate the average accuracy of each model then select the best model"
   ]
  },
  {
   "cell_type": "code",
   "execution_count": 1371,
   "metadata": {},
   "outputs": [
    {
     "name": "stdout",
     "output_type": "stream",
     "text": [
      "Accuracy: 0.79 (+/- 0.03) [Logistic Regression]\n",
      "Accuracy: 0.82 (+/- 0.03) [Random Forest]\n",
      "Accuracy: 0.73 (+/- 0.03) [KNN]\n",
      "Accuracy: 0.77 (+/- 0.05) [bagging]\n",
      "Accuracy: 0.72 (+/- 0.02) [boosting]\n",
      "Accuracy: 0.80 (+/- 0.03) [Ensemble]\n"
     ]
    }
   ],
   "source": [
    "from sklearn.ensemble import VotingClassifier\n",
    "eclf = VotingClassifier(estimators=[('lr', model1), ('rf', clf1), ('kn', neigh),(\"bagging\",bagging),(\"boosting\",clf5)], voting='hard')\n",
    "for clf, label in zip([model1, clf1, neigh,bagging,clf5,eclf], ['Logistic Regression', 'Random Forest', 'KNN',\"bagging\",\"boosting\", 'Ensemble(hard voting)']):\n",
    "           scores = cross_val_score(clf, x_test, y_test, cv=5, scoring='accuracy')\n",
    "           print(\"Accuracy: %0.2f (+/- %0.2f) [%s]\" % (scores.mean(), scores.std(), label))"
   ]
  },
  {
   "cell_type": "code",
   "execution_count": 1372,
   "metadata": {},
   "outputs": [
    {
     "name": "stdout",
     "output_type": "stream",
     "text": [
      "Accuracy: 0.79 (+/- 0.03) [Logistic Regression]\n",
      "Accuracy: 0.82 (+/- 0.03) [Random Forest]\n",
      "Accuracy: 0.73 (+/- 0.03) [KNN]\n",
      "Accuracy: 0.78 (+/- 0.03) [bagging]\n",
      "Accuracy: 0.72 (+/- 0.02) [boosting]\n",
      "Accuracy: 0.79 (+/- 0.01) [Ensemble]\n"
     ]
    }
   ],
   "source": [
    "eclf2 = VotingClassifier(estimators=[('lr', model1), ('rf', clf1), ('kn', neigh),(\"bagging\",bagging),(\"boosting\",clf5)], voting='soft')\n",
    "for clf, label in zip([model1, clf1, neigh,bagging,clf5,eclf2], ['Logistic Regression', 'Random Forest', 'KNN',\"bagging\",\"boosting\", 'Ensemble(soft voting)']):\n",
    "           scores = cross_val_score(clf, x_test, y_test, cv=5, scoring='accuracy')\n",
    "           print(\"Accuracy: %0.2f (+/- %0.2f) [%s]\" % (scores.mean(), scores.std(), label))"
   ]
  },
  {
   "cell_type": "markdown",
   "metadata": {},
   "source": [
    "### According to the cross validation, still Random Forest is the best model. All the model acurracy are closeto  80%."
   ]
  },
  {
   "cell_type": "markdown",
   "metadata": {},
   "source": [
    "### compare prediciton made by each model"
   ]
  },
  {
   "cell_type": "code",
   "execution_count": 1346,
   "metadata": {},
   "outputs": [
    {
     "data": {
      "text/plain": [
       "VotingClassifier(estimators=[('lr', LogisticRegression(C=1.0, class_weight=None, dual=False, fit_intercept=True,\n",
       "          intercept_scaling=1, max_iter=100, multi_class='ovr', n_jobs=1,\n",
       "          penalty='l2', random_state=None, solver='liblinear', tol=0.0001,\n",
       "          verbose=0, warm_start=False)), ('rf', RandomF...='SAMME.R', base_estimator=None,\n",
       "          learning_rate=1.0, n_estimators=600, random_state=None))],\n",
       "         flatten_transform=None, n_jobs=1, voting='hard', weights=None)"
      ]
     },
     "execution_count": 1346,
     "metadata": {},
     "output_type": "execute_result"
    }
   ],
   "source": [
    "eclf.fit(x_train,y_train)"
   ]
  },
  {
   "cell_type": "code",
   "execution_count": 1347,
   "metadata": {},
   "outputs": [
    {
     "data": {
      "text/plain": [
       "VotingClassifier(estimators=[('lr', LogisticRegression(C=1.0, class_weight=None, dual=False, fit_intercept=True,\n",
       "          intercept_scaling=1, max_iter=100, multi_class='ovr', n_jobs=1,\n",
       "          penalty='l2', random_state=None, solver='liblinear', tol=0.0001,\n",
       "          verbose=0, warm_start=False)), ('rf', RandomF...='SAMME.R', base_estimator=None,\n",
       "          learning_rate=1.0, n_estimators=600, random_state=None))],\n",
       "         flatten_transform=None, n_jobs=1, voting='soft', weights=None)"
      ]
     },
     "execution_count": 1347,
     "metadata": {},
     "output_type": "execute_result"
    }
   ],
   "source": [
    "eclf2.fit(x_train,y_train)"
   ]
  },
  {
   "cell_type": "code",
   "execution_count": 1348,
   "metadata": {
    "collapsed": true
   },
   "outputs": [],
   "source": [
    "y_e1=eclf.predict(x_test)"
   ]
  },
  {
   "cell_type": "code",
   "execution_count": 1349,
   "metadata": {
    "collapsed": true
   },
   "outputs": [],
   "source": [
    "y_e=eclf2.predict(x_test)"
   ]
  },
  {
   "cell_type": "code",
   "execution_count": 1351,
   "metadata": {},
   "outputs": [
    {
     "data": {
      "text/plain": [
       "Counter({0: 161, 1: 217})"
      ]
     },
     "execution_count": 1351,
     "metadata": {},
     "output_type": "execute_result"
    }
   ],
   "source": [
    "#count the seperate total of each value \n",
    "#0 indicates no 1 indicates yes\n",
    "from collections import Counter\n",
    "Counter(y_e)"
   ]
  },
  {
   "cell_type": "code",
   "execution_count": 1352,
   "metadata": {},
   "outputs": [
    {
     "data": {
      "text/plain": [
       "Counter({0: 154, 1: 224})"
      ]
     },
     "execution_count": 1352,
     "metadata": {},
     "output_type": "execute_result"
    }
   ],
   "source": [
    "Counter(y_e1)"
   ]
  },
  {
   "cell_type": "code",
   "execution_count": 1353,
   "metadata": {},
   "outputs": [
    {
     "data": {
      "text/plain": [
       "Counter({0: 147, 1: 231})"
      ]
     },
     "execution_count": 1353,
     "metadata": {},
     "output_type": "execute_result"
    }
   ],
   "source": [
    "Counter(y_pred_tree)"
   ]
  },
  {
   "cell_type": "code",
   "execution_count": 1354,
   "metadata": {},
   "outputs": [
    {
     "data": {
      "text/plain": [
       "Counter({0: 167, 1: 211})"
      ]
     },
     "execution_count": 1354,
     "metadata": {},
     "output_type": "execute_result"
    }
   ],
   "source": [
    "Counter(y_pred)"
   ]
  },
  {
   "cell_type": "code",
   "execution_count": 1355,
   "metadata": {},
   "outputs": [
    {
     "data": {
      "text/plain": [
       "Counter({0: 183, 1: 195})"
      ]
     },
     "execution_count": 1355,
     "metadata": {},
     "output_type": "execute_result"
    }
   ],
   "source": [
    "Counter(y_pred_n)"
   ]
  },
  {
   "cell_type": "code",
   "execution_count": 1356,
   "metadata": {},
   "outputs": [
    {
     "data": {
      "text/plain": [
       "Counter({0: 167, 1: 211})"
      ]
     },
     "execution_count": 1356,
     "metadata": {},
     "output_type": "execute_result"
    }
   ],
   "source": [
    "Counter(y_pred_ba)"
   ]
  },
  {
   "cell_type": "code",
   "execution_count": 1357,
   "metadata": {},
   "outputs": [
    {
     "data": {
      "text/plain": [
       "Counter({0: 172, 1: 206})"
      ]
     },
     "execution_count": 1357,
     "metadata": {},
     "output_type": "execute_result"
    }
   ],
   "source": [
    "Counter(y_pred_bo)"
   ]
  },
  {
   "cell_type": "code",
   "execution_count": 1358,
   "metadata": {},
   "outputs": [
    {
     "data": {
      "text/plain": [
       "Counter({0: 191, 1: 187})"
      ]
     },
     "execution_count": 1358,
     "metadata": {},
     "output_type": "execute_result"
    }
   ],
   "source": [
    "Counter(y_test)"
   ]
  },
  {
   "cell_type": "markdown",
   "metadata": {},
   "source": [
    "#### From above results, it seems the prediction made by knn is more close to the true value. But according to the cross validation  accuracy, Random Forest will be better in predicting. While it is just one time test."
   ]
  },
  {
   "cell_type": "markdown",
   "metadata": {},
   "source": [
    "#### The dataset just has aroud 1000 records, we need more data and test more."
   ]
  },
  {
   "cell_type": "code",
   "execution_count": 1373,
   "metadata": {
    "collapsed": true
   },
   "outputs": [],
   "source": [
    "result_lo=le_t.inverse_transform(y_e1)"
   ]
  },
  {
   "cell_type": "code",
   "execution_count": 1374,
   "metadata": {
    "collapsed": true
   },
   "outputs": [],
   "source": [
    "y_testC=le_t.inverse_transform(y_test)"
   ]
  },
  {
   "cell_type": "code",
   "execution_count": 1379,
   "metadata": {},
   "outputs": [
    {
     "name": "stdout",
     "output_type": "stream",
     "text": [
      "Number 0 worker did not go to treatment but he may need to\n",
      "Number 4 worker did not go to treatment but he may need to\n",
      "Number 5 worker did not go to treatment but he may need to\n",
      "Number 7 worker did not go to treatment but he may need to\n",
      "Number 16 worker did not go to treatment but he may need to\n",
      "Number 25 worker did not go to treatment but he may need to\n",
      "Number 37 worker did not go to treatment but he may need to\n",
      "Number 45 worker did not go to treatment but he may need to\n",
      "Number 59 worker did not go to treatment but he may need to\n",
      "Number 60 worker did not go to treatment but he may need to\n",
      "Number 61 worker did not go to treatment but he may need to\n",
      "Number 62 worker did not go to treatment but he may need to\n",
      "Number 66 worker did not go to treatment but he may need to\n",
      "Number 80 worker did not go to treatment but he may need to\n",
      "Number 92 worker did not go to treatment but he may need to\n",
      "Number 93 worker did not go to treatment but he may need to\n",
      "Number 94 worker did not go to treatment but he may need to\n",
      "Number 95 worker did not go to treatment but he may need to\n",
      "Number 96 worker did not go to treatment but he may need to\n",
      "Number 106 worker did not go to treatment but he may need to\n",
      "Number 122 worker did not go to treatment but he may need to\n",
      "Number 123 worker did not go to treatment but he may need to\n",
      "Number 126 worker did not go to treatment but he may need to\n",
      "Number 135 worker did not go to treatment but he may need to\n",
      "Number 136 worker did not go to treatment but he may need to\n",
      "Number 142 worker did not go to treatment but he may need to\n",
      "Number 153 worker did not go to treatment but he may need to\n",
      "Number 167 worker did not go to treatment but he may need to\n",
      "Number 174 worker did not go to treatment but he may need to\n",
      "Number 184 worker did not go to treatment but he may need to\n",
      "Number 186 worker did not go to treatment but he may need to\n",
      "Number 198 worker did not go to treatment but he may need to\n",
      "Number 200 worker did not go to treatment but he may need to\n",
      "Number 213 worker did not go to treatment but he may need to\n",
      "Number 222 worker did not go to treatment but he may need to\n",
      "Number 229 worker did not go to treatment but he may need to\n",
      "Number 235 worker did not go to treatment but he may need to\n",
      "Number 237 worker did not go to treatment but he may need to\n",
      "Number 245 worker did not go to treatment but he may need to\n",
      "Number 247 worker did not go to treatment but he may need to\n",
      "Number 248 worker did not go to treatment but he may need to\n",
      "Number 266 worker did not go to treatment but he may need to\n",
      "Number 269 worker did not go to treatment but he may need to\n",
      "Number 281 worker did not go to treatment but he may need to\n",
      "Number 302 worker did not go to treatment but he may need to\n",
      "Number 315 worker did not go to treatment but he may need to\n",
      "Number 329 worker did not go to treatment but he may need to\n",
      "Number 338 worker did not go to treatment but he may need to\n",
      "Number 340 worker did not go to treatment but he may need to\n",
      "Number 344 worker did not go to treatment but he may need to\n",
      "Number 348 worker did not go to treatment but he may need to\n",
      "Number 351 worker did not go to treatment but he may need to\n",
      "Number 352 worker did not go to treatment but he may need to\n",
      "Number 357 worker did not go to treatment but he may need to\n",
      "Number 364 worker did not go to treatment but he may need to\n",
      "Number 365 worker did not go to treatment but he may need to\n",
      "Number 367 worker did not go to treatment but he may need to\n",
      "Number 375 worker did not go to treatment but he may need to\n"
     ]
    }
   ],
   "source": [
    "#using the prediction made by ensemble hard voting\n",
    "for i in range(len(y_test)):\n",
    "    if result_lo[i]==\"Yes\":\n",
    "        if y_testC[i]==\"No\":\n",
    "            print(\"Number {} worker did not go to treatment but he may need to\".format(i))"
   ]
  },
  {
   "cell_type": "code",
   "execution_count": 1377,
   "metadata": {
    "collapsed": true
   },
   "outputs": [],
   "source": [
    "#using the prediction made by KNN\n",
    "result_K=le_t.inverse_transform(y_pred_n)"
   ]
  },
  {
   "cell_type": "code",
   "execution_count": 1378,
   "metadata": {},
   "outputs": [
    {
     "name": "stdout",
     "output_type": "stream",
     "text": [
      "Number 0 worker did not go to treatment but he may need to\n",
      "Number 4 worker did not go to treatment but he may need to\n",
      "Number 5 worker did not go to treatment but he may need to\n",
      "Number 16 worker did not go to treatment but he may need to\n",
      "Number 25 worker did not go to treatment but he may need to\n",
      "Number 35 worker did not go to treatment but he may need to\n",
      "Number 37 worker did not go to treatment but he may need to\n",
      "Number 45 worker did not go to treatment but he may need to\n",
      "Number 59 worker did not go to treatment but he may need to\n",
      "Number 60 worker did not go to treatment but he may need to\n",
      "Number 61 worker did not go to treatment but he may need to\n",
      "Number 80 worker did not go to treatment but he may need to\n",
      "Number 92 worker did not go to treatment but he may need to\n",
      "Number 93 worker did not go to treatment but he may need to\n",
      "Number 96 worker did not go to treatment but he may need to\n",
      "Number 106 worker did not go to treatment but he may need to\n",
      "Number 110 worker did not go to treatment but he may need to\n",
      "Number 123 worker did not go to treatment but he may need to\n",
      "Number 126 worker did not go to treatment but he may need to\n",
      "Number 135 worker did not go to treatment but he may need to\n",
      "Number 136 worker did not go to treatment but he may need to\n",
      "Number 142 worker did not go to treatment but he may need to\n",
      "Number 153 worker did not go to treatment but he may need to\n",
      "Number 167 worker did not go to treatment but he may need to\n",
      "Number 184 worker did not go to treatment but he may need to\n",
      "Number 186 worker did not go to treatment but he may need to\n",
      "Number 198 worker did not go to treatment but he may need to\n",
      "Number 222 worker did not go to treatment but he may need to\n",
      "Number 229 worker did not go to treatment but he may need to\n",
      "Number 237 worker did not go to treatment but he may need to\n",
      "Number 245 worker did not go to treatment but he may need to\n",
      "Number 247 worker did not go to treatment but he may need to\n",
      "Number 248 worker did not go to treatment but he may need to\n",
      "Number 250 worker did not go to treatment but he may need to\n",
      "Number 266 worker did not go to treatment but he may need to\n",
      "Number 269 worker did not go to treatment but he may need to\n",
      "Number 281 worker did not go to treatment but he may need to\n",
      "Number 285 worker did not go to treatment but he may need to\n",
      "Number 302 worker did not go to treatment but he may need to\n",
      "Number 315 worker did not go to treatment but he may need to\n",
      "Number 319 worker did not go to treatment but he may need to\n",
      "Number 325 worker did not go to treatment but he may need to\n",
      "Number 329 worker did not go to treatment but he may need to\n",
      "Number 330 worker did not go to treatment but he may need to\n",
      "Number 338 worker did not go to treatment but he may need to\n",
      "Number 340 worker did not go to treatment but he may need to\n",
      "Number 344 worker did not go to treatment but he may need to\n",
      "Number 348 worker did not go to treatment but he may need to\n",
      "Number 351 worker did not go to treatment but he may need to\n",
      "Number 352 worker did not go to treatment but he may need to\n",
      "Number 357 worker did not go to treatment but he may need to\n",
      "Number 367 worker did not go to treatment but he may need to\n",
      "Number 375 worker did not go to treatment but he may need to\n"
     ]
    }
   ],
   "source": [
    "for i in range(len(y_test)):\n",
    "    if result_K[i]==\"Yes\":\n",
    "        if y_testC[i]==\"No\":\n",
    "            print(\"Number {} worker did not go to treatment but he may need to\".format(i))"
   ]
  },
  {
   "attachments": {},
   "cell_type": "markdown",
   "metadata": {
    "collapsed": true
   },
   "source": [
    "### What additional information or analysis might improve your model results or work to control limitations?\n",
    "Mental health issue is a complex matter  we need to rise the accuracy to a higher level.\n",
    "The survey should be extended and used across wider portions of the tech industry. We need more data and test more.\n",
    "In the future, data should also be taken from other industries.\n"
   ]
  },
  {
   "cell_type": "code",
   "execution_count": null,
   "metadata": {
    "collapsed": true
   },
   "outputs": [],
   "source": []
  }
 ],
 "metadata": {
  "kernelspec": {
   "display_name": "Python 3",
   "language": "python",
   "name": "python3"
  },
  "language_info": {
   "codemirror_mode": {
    "name": "ipython",
    "version": 3
   },
   "file_extension": ".py",
   "mimetype": "text/x-python",
   "name": "python",
   "nbconvert_exporter": "python",
   "pygments_lexer": "ipython3",
   "version": "3.6.2"
  }
 },
 "nbformat": 4,
 "nbformat_minor": 2
}
